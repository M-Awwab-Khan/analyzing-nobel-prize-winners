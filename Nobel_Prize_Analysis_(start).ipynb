{
  "nbformat": 4,
  "nbformat_minor": 0,
  "metadata": {
    "kernelspec": {
      "display_name": "Python 3",
      "language": "python",
      "name": "python3"
    },
    "language_info": {
      "codemirror_mode": {
        "name": "ipython",
        "version": 3
      },
      "file_extension": ".py",
      "mimetype": "text/x-python",
      "name": "python",
      "nbconvert_exporter": "python",
      "pygments_lexer": "ipython3",
      "version": "3.7.9"
    },
    "colab": {
      "name": "Nobel Prize Analysis (start).ipynb",
      "provenance": []
    }
  },
  "cells": [
    {
      "cell_type": "markdown",
      "metadata": {
        "id": "FuDxBL8UamHp"
      },
      "source": [
        "# Setup and Context"
      ]
    },
    {
      "cell_type": "markdown",
      "metadata": {
        "id": "9vYVhf9vo7LK"
      },
      "source": [
        "### Introduction\n",
        "\n",
        "On November 27, 1895, Alfred Nobel signed his last will in Paris. When it was opened after his death, the will caused a lot of controversy, as Nobel had left much of his wealth for the establishment of a prize.\n",
        "\n",
        "Alfred Nobel dictates that his entire remaining estate should be used to endow “prizes to those who, during the preceding year, have conferred the greatest benefit to humankind”.\n",
        "\n",
        "Every year the Nobel Prize is given to scientists and scholars in the categories chemistry, literature, physics, physiology or medicine, economics, and peace.\n",
        "\n",
        "<img src=https://i.imgur.com/36pCx5Q.jpg>\n",
        "\n",
        "Let's see what patterns we can find in the data of the past Nobel laureates. What can we learn about the Nobel prize and our world more generally?"
      ]
    },
    {
      "cell_type": "markdown",
      "metadata": {
        "id": "RaHW4kg0sZKP"
      },
      "source": [
        "### Upgrade plotly (only Google Colab Notebook)\n",
        "\n",
        "Google Colab may not be running the latest version of plotly. If you're working in Google Colab, uncomment the line below, run the cell, and restart your notebook server."
      ]
    },
    {
      "cell_type": "code",
      "metadata": {
        "id": "od8BRWbAsGxS",
        "colab": {
          "base_uri": "https://localhost:8080/"
        },
        "outputId": "5559fe96-2039-4c2e-e4fc-f3af711cf673"
      },
      "source": [
        "%pip install --upgrade plotly"
      ],
      "execution_count": 1,
      "outputs": [
        {
          "output_type": "stream",
          "name": "stdout",
          "text": [
            "Requirement already satisfied: plotly in /usr/local/lib/python3.10/dist-packages (5.15.0)\n",
            "Collecting plotly\n",
            "  Downloading plotly-5.19.0-py3-none-any.whl (15.7 MB)\n",
            "\u001b[2K     \u001b[90m━━━━━━━━━━━━━━━━━━━━━━━━━━━━━━━━━━━━━━━━\u001b[0m \u001b[32m15.7/15.7 MB\u001b[0m \u001b[31m31.1 MB/s\u001b[0m eta \u001b[36m0:00:00\u001b[0m\n",
            "\u001b[?25hRequirement already satisfied: tenacity>=6.2.0 in /usr/local/lib/python3.10/dist-packages (from plotly) (8.2.3)\n",
            "Requirement already satisfied: packaging in /usr/local/lib/python3.10/dist-packages (from plotly) (23.2)\n",
            "Installing collected packages: plotly\n",
            "  Attempting uninstall: plotly\n",
            "    Found existing installation: plotly 5.15.0\n",
            "    Uninstalling plotly-5.15.0:\n",
            "      Successfully uninstalled plotly-5.15.0\n",
            "Successfully installed plotly-5.19.0\n"
          ]
        }
      ]
    },
    {
      "cell_type": "markdown",
      "metadata": {
        "id": "QPnGYVYyo7LK"
      },
      "source": [
        "### Import Statements"
      ]
    },
    {
      "cell_type": "code",
      "metadata": {
        "id": "dCIwm0dLo7LL"
      },
      "source": [
        "import pandas as pd\n",
        "import numpy as np\n",
        "import plotly.express as px\n",
        "import seaborn as sns\n",
        "import matplotlib.pyplot as plt"
      ],
      "execution_count": 2,
      "outputs": []
    },
    {
      "cell_type": "markdown",
      "metadata": {
        "id": "FcJY6qfNo7LN"
      },
      "source": [
        "### Notebook Presentation"
      ]
    },
    {
      "cell_type": "code",
      "metadata": {
        "id": "RjzC6BoMo7LO"
      },
      "source": [
        "pd.options.display.float_format = '{:,.2f}'.format"
      ],
      "execution_count": 3,
      "outputs": []
    },
    {
      "cell_type": "markdown",
      "metadata": {
        "id": "eoQ5Af4wo7LQ"
      },
      "source": [
        "### Read the Data"
      ]
    },
    {
      "cell_type": "code",
      "metadata": {
        "id": "EbVGyi7Eo7LQ"
      },
      "source": [
        "df_data = pd.read_csv('nobel_prize_data.csv')"
      ],
      "execution_count": 4,
      "outputs": []
    },
    {
      "cell_type": "markdown",
      "metadata": {
        "id": "XZzHD-1dKKbr"
      },
      "source": [
        "Caveats: The exact birth dates for Michael Houghton, Venkatraman Ramakrishnan, and Nadia Murad are unknown. I've substituted them with mid-year estimate of July 2nd.\n"
      ]
    },
    {
      "cell_type": "markdown",
      "metadata": {
        "id": "rYlGEluAo7LS"
      },
      "source": [
        "# Data Exploration & Cleaning\n",
        "\n",
        "**Challenge**: Preliminary data exploration.\n",
        "* What is the shape of `df_data`? How many rows and columns?\n",
        "* What are the column names?\n",
        "* In which year was the Nobel prize first awarded?\n",
        "* Which year is the latest year included in the dataset?"
      ]
    },
    {
      "cell_type": "code",
      "metadata": {
        "id": "4U-OQVRbFOu6",
        "colab": {
          "base_uri": "https://localhost:8080/",
          "height": 504
        },
        "outputId": "d3a08a22-b899-4596-e116-227c44084687"
      },
      "source": [
        "df_data.head()"
      ],
      "execution_count": 5,
      "outputs": [
        {
          "output_type": "execute_result",
          "data": {
            "text/plain": [
              "   year    category                                           prize  \\\n",
              "0  1901   Chemistry               The Nobel Prize in Chemistry 1901   \n",
              "1  1901  Literature              The Nobel Prize in Literature 1901   \n",
              "2  1901    Medicine  The Nobel Prize in Physiology or Medicine 1901   \n",
              "3  1901       Peace                      The Nobel Peace Prize 1901   \n",
              "4  1901       Peace                      The Nobel Peace Prize 1901   \n",
              "\n",
              "                                          motivation prize_share  \\\n",
              "0  \"in recognition of the extraordinary services ...         1/1   \n",
              "1  \"in special recognition of his poetic composit...         1/1   \n",
              "2  \"for his work on serum therapy, especially its...         1/1   \n",
              "3                                                NaN         1/2   \n",
              "4                                                NaN         1/2   \n",
              "\n",
              "  laureate_type                     full_name  birth_date         birth_city  \\\n",
              "0    Individual  Jacobus Henricus van 't Hoff  1852-08-30          Rotterdam   \n",
              "1    Individual               Sully Prudhomme  1839-03-16              Paris   \n",
              "2    Individual        Emil Adolf von Behring  1854-03-15  Hansdorf (Lawice)   \n",
              "3    Individual                Frédéric Passy  1822-05-20              Paris   \n",
              "4    Individual             Jean Henry Dunant  1828-05-08             Geneva   \n",
              "\n",
              "      birth_country birth_country_current   sex   organization_name  \\\n",
              "0       Netherlands           Netherlands  Male   Berlin University   \n",
              "1            France                France  Male                 NaN   \n",
              "2  Prussia (Poland)                Poland  Male  Marburg University   \n",
              "3            France                France  Male                 NaN   \n",
              "4       Switzerland           Switzerland  Male                 NaN   \n",
              "\n",
              "  organization_city organization_country  ISO  \n",
              "0            Berlin              Germany  NLD  \n",
              "1               NaN                  NaN  FRA  \n",
              "2           Marburg              Germany  POL  \n",
              "3               NaN                  NaN  FRA  \n",
              "4               NaN                  NaN  CHE  "
            ],
            "text/html": [
              "\n",
              "  <div id=\"df-ab9af6a0-add5-4b02-95d5-9adc3defba1a\" class=\"colab-df-container\">\n",
              "    <div>\n",
              "<style scoped>\n",
              "    .dataframe tbody tr th:only-of-type {\n",
              "        vertical-align: middle;\n",
              "    }\n",
              "\n",
              "    .dataframe tbody tr th {\n",
              "        vertical-align: top;\n",
              "    }\n",
              "\n",
              "    .dataframe thead th {\n",
              "        text-align: right;\n",
              "    }\n",
              "</style>\n",
              "<table border=\"1\" class=\"dataframe\">\n",
              "  <thead>\n",
              "    <tr style=\"text-align: right;\">\n",
              "      <th></th>\n",
              "      <th>year</th>\n",
              "      <th>category</th>\n",
              "      <th>prize</th>\n",
              "      <th>motivation</th>\n",
              "      <th>prize_share</th>\n",
              "      <th>laureate_type</th>\n",
              "      <th>full_name</th>\n",
              "      <th>birth_date</th>\n",
              "      <th>birth_city</th>\n",
              "      <th>birth_country</th>\n",
              "      <th>birth_country_current</th>\n",
              "      <th>sex</th>\n",
              "      <th>organization_name</th>\n",
              "      <th>organization_city</th>\n",
              "      <th>organization_country</th>\n",
              "      <th>ISO</th>\n",
              "    </tr>\n",
              "  </thead>\n",
              "  <tbody>\n",
              "    <tr>\n",
              "      <th>0</th>\n",
              "      <td>1901</td>\n",
              "      <td>Chemistry</td>\n",
              "      <td>The Nobel Prize in Chemistry 1901</td>\n",
              "      <td>\"in recognition of the extraordinary services ...</td>\n",
              "      <td>1/1</td>\n",
              "      <td>Individual</td>\n",
              "      <td>Jacobus Henricus van 't Hoff</td>\n",
              "      <td>1852-08-30</td>\n",
              "      <td>Rotterdam</td>\n",
              "      <td>Netherlands</td>\n",
              "      <td>Netherlands</td>\n",
              "      <td>Male</td>\n",
              "      <td>Berlin University</td>\n",
              "      <td>Berlin</td>\n",
              "      <td>Germany</td>\n",
              "      <td>NLD</td>\n",
              "    </tr>\n",
              "    <tr>\n",
              "      <th>1</th>\n",
              "      <td>1901</td>\n",
              "      <td>Literature</td>\n",
              "      <td>The Nobel Prize in Literature 1901</td>\n",
              "      <td>\"in special recognition of his poetic composit...</td>\n",
              "      <td>1/1</td>\n",
              "      <td>Individual</td>\n",
              "      <td>Sully Prudhomme</td>\n",
              "      <td>1839-03-16</td>\n",
              "      <td>Paris</td>\n",
              "      <td>France</td>\n",
              "      <td>France</td>\n",
              "      <td>Male</td>\n",
              "      <td>NaN</td>\n",
              "      <td>NaN</td>\n",
              "      <td>NaN</td>\n",
              "      <td>FRA</td>\n",
              "    </tr>\n",
              "    <tr>\n",
              "      <th>2</th>\n",
              "      <td>1901</td>\n",
              "      <td>Medicine</td>\n",
              "      <td>The Nobel Prize in Physiology or Medicine 1901</td>\n",
              "      <td>\"for his work on serum therapy, especially its...</td>\n",
              "      <td>1/1</td>\n",
              "      <td>Individual</td>\n",
              "      <td>Emil Adolf von Behring</td>\n",
              "      <td>1854-03-15</td>\n",
              "      <td>Hansdorf (Lawice)</td>\n",
              "      <td>Prussia (Poland)</td>\n",
              "      <td>Poland</td>\n",
              "      <td>Male</td>\n",
              "      <td>Marburg University</td>\n",
              "      <td>Marburg</td>\n",
              "      <td>Germany</td>\n",
              "      <td>POL</td>\n",
              "    </tr>\n",
              "    <tr>\n",
              "      <th>3</th>\n",
              "      <td>1901</td>\n",
              "      <td>Peace</td>\n",
              "      <td>The Nobel Peace Prize 1901</td>\n",
              "      <td>NaN</td>\n",
              "      <td>1/2</td>\n",
              "      <td>Individual</td>\n",
              "      <td>Frédéric Passy</td>\n",
              "      <td>1822-05-20</td>\n",
              "      <td>Paris</td>\n",
              "      <td>France</td>\n",
              "      <td>France</td>\n",
              "      <td>Male</td>\n",
              "      <td>NaN</td>\n",
              "      <td>NaN</td>\n",
              "      <td>NaN</td>\n",
              "      <td>FRA</td>\n",
              "    </tr>\n",
              "    <tr>\n",
              "      <th>4</th>\n",
              "      <td>1901</td>\n",
              "      <td>Peace</td>\n",
              "      <td>The Nobel Peace Prize 1901</td>\n",
              "      <td>NaN</td>\n",
              "      <td>1/2</td>\n",
              "      <td>Individual</td>\n",
              "      <td>Jean Henry Dunant</td>\n",
              "      <td>1828-05-08</td>\n",
              "      <td>Geneva</td>\n",
              "      <td>Switzerland</td>\n",
              "      <td>Switzerland</td>\n",
              "      <td>Male</td>\n",
              "      <td>NaN</td>\n",
              "      <td>NaN</td>\n",
              "      <td>NaN</td>\n",
              "      <td>CHE</td>\n",
              "    </tr>\n",
              "  </tbody>\n",
              "</table>\n",
              "</div>\n",
              "    <div class=\"colab-df-buttons\">\n",
              "\n",
              "  <div class=\"colab-df-container\">\n",
              "    <button class=\"colab-df-convert\" onclick=\"convertToInteractive('df-ab9af6a0-add5-4b02-95d5-9adc3defba1a')\"\n",
              "            title=\"Convert this dataframe to an interactive table.\"\n",
              "            style=\"display:none;\">\n",
              "\n",
              "  <svg xmlns=\"http://www.w3.org/2000/svg\" height=\"24px\" viewBox=\"0 -960 960 960\">\n",
              "    <path d=\"M120-120v-720h720v720H120Zm60-500h600v-160H180v160Zm220 220h160v-160H400v160Zm0 220h160v-160H400v160ZM180-400h160v-160H180v160Zm440 0h160v-160H620v160ZM180-180h160v-160H180v160Zm440 0h160v-160H620v160Z\"/>\n",
              "  </svg>\n",
              "    </button>\n",
              "\n",
              "  <style>\n",
              "    .colab-df-container {\n",
              "      display:flex;\n",
              "      gap: 12px;\n",
              "    }\n",
              "\n",
              "    .colab-df-convert {\n",
              "      background-color: #E8F0FE;\n",
              "      border: none;\n",
              "      border-radius: 50%;\n",
              "      cursor: pointer;\n",
              "      display: none;\n",
              "      fill: #1967D2;\n",
              "      height: 32px;\n",
              "      padding: 0 0 0 0;\n",
              "      width: 32px;\n",
              "    }\n",
              "\n",
              "    .colab-df-convert:hover {\n",
              "      background-color: #E2EBFA;\n",
              "      box-shadow: 0px 1px 2px rgba(60, 64, 67, 0.3), 0px 1px 3px 1px rgba(60, 64, 67, 0.15);\n",
              "      fill: #174EA6;\n",
              "    }\n",
              "\n",
              "    .colab-df-buttons div {\n",
              "      margin-bottom: 4px;\n",
              "    }\n",
              "\n",
              "    [theme=dark] .colab-df-convert {\n",
              "      background-color: #3B4455;\n",
              "      fill: #D2E3FC;\n",
              "    }\n",
              "\n",
              "    [theme=dark] .colab-df-convert:hover {\n",
              "      background-color: #434B5C;\n",
              "      box-shadow: 0px 1px 3px 1px rgba(0, 0, 0, 0.15);\n",
              "      filter: drop-shadow(0px 1px 2px rgba(0, 0, 0, 0.3));\n",
              "      fill: #FFFFFF;\n",
              "    }\n",
              "  </style>\n",
              "\n",
              "    <script>\n",
              "      const buttonEl =\n",
              "        document.querySelector('#df-ab9af6a0-add5-4b02-95d5-9adc3defba1a button.colab-df-convert');\n",
              "      buttonEl.style.display =\n",
              "        google.colab.kernel.accessAllowed ? 'block' : 'none';\n",
              "\n",
              "      async function convertToInteractive(key) {\n",
              "        const element = document.querySelector('#df-ab9af6a0-add5-4b02-95d5-9adc3defba1a');\n",
              "        const dataTable =\n",
              "          await google.colab.kernel.invokeFunction('convertToInteractive',\n",
              "                                                    [key], {});\n",
              "        if (!dataTable) return;\n",
              "\n",
              "        const docLinkHtml = 'Like what you see? Visit the ' +\n",
              "          '<a target=\"_blank\" href=https://colab.research.google.com/notebooks/data_table.ipynb>data table notebook</a>'\n",
              "          + ' to learn more about interactive tables.';\n",
              "        element.innerHTML = '';\n",
              "        dataTable['output_type'] = 'display_data';\n",
              "        await google.colab.output.renderOutput(dataTable, element);\n",
              "        const docLink = document.createElement('div');\n",
              "        docLink.innerHTML = docLinkHtml;\n",
              "        element.appendChild(docLink);\n",
              "      }\n",
              "    </script>\n",
              "  </div>\n",
              "\n",
              "\n",
              "<div id=\"df-91961cef-6fe5-47ef-913b-c93017fc05ba\">\n",
              "  <button class=\"colab-df-quickchart\" onclick=\"quickchart('df-91961cef-6fe5-47ef-913b-c93017fc05ba')\"\n",
              "            title=\"Suggest charts\"\n",
              "            style=\"display:none;\">\n",
              "\n",
              "<svg xmlns=\"http://www.w3.org/2000/svg\" height=\"24px\"viewBox=\"0 0 24 24\"\n",
              "     width=\"24px\">\n",
              "    <g>\n",
              "        <path d=\"M19 3H5c-1.1 0-2 .9-2 2v14c0 1.1.9 2 2 2h14c1.1 0 2-.9 2-2V5c0-1.1-.9-2-2-2zM9 17H7v-7h2v7zm4 0h-2V7h2v10zm4 0h-2v-4h2v4z\"/>\n",
              "    </g>\n",
              "</svg>\n",
              "  </button>\n",
              "\n",
              "<style>\n",
              "  .colab-df-quickchart {\n",
              "      --bg-color: #E8F0FE;\n",
              "      --fill-color: #1967D2;\n",
              "      --hover-bg-color: #E2EBFA;\n",
              "      --hover-fill-color: #174EA6;\n",
              "      --disabled-fill-color: #AAA;\n",
              "      --disabled-bg-color: #DDD;\n",
              "  }\n",
              "\n",
              "  [theme=dark] .colab-df-quickchart {\n",
              "      --bg-color: #3B4455;\n",
              "      --fill-color: #D2E3FC;\n",
              "      --hover-bg-color: #434B5C;\n",
              "      --hover-fill-color: #FFFFFF;\n",
              "      --disabled-bg-color: #3B4455;\n",
              "      --disabled-fill-color: #666;\n",
              "  }\n",
              "\n",
              "  .colab-df-quickchart {\n",
              "    background-color: var(--bg-color);\n",
              "    border: none;\n",
              "    border-radius: 50%;\n",
              "    cursor: pointer;\n",
              "    display: none;\n",
              "    fill: var(--fill-color);\n",
              "    height: 32px;\n",
              "    padding: 0;\n",
              "    width: 32px;\n",
              "  }\n",
              "\n",
              "  .colab-df-quickchart:hover {\n",
              "    background-color: var(--hover-bg-color);\n",
              "    box-shadow: 0 1px 2px rgba(60, 64, 67, 0.3), 0 1px 3px 1px rgba(60, 64, 67, 0.15);\n",
              "    fill: var(--button-hover-fill-color);\n",
              "  }\n",
              "\n",
              "  .colab-df-quickchart-complete:disabled,\n",
              "  .colab-df-quickchart-complete:disabled:hover {\n",
              "    background-color: var(--disabled-bg-color);\n",
              "    fill: var(--disabled-fill-color);\n",
              "    box-shadow: none;\n",
              "  }\n",
              "\n",
              "  .colab-df-spinner {\n",
              "    border: 2px solid var(--fill-color);\n",
              "    border-color: transparent;\n",
              "    border-bottom-color: var(--fill-color);\n",
              "    animation:\n",
              "      spin 1s steps(1) infinite;\n",
              "  }\n",
              "\n",
              "  @keyframes spin {\n",
              "    0% {\n",
              "      border-color: transparent;\n",
              "      border-bottom-color: var(--fill-color);\n",
              "      border-left-color: var(--fill-color);\n",
              "    }\n",
              "    20% {\n",
              "      border-color: transparent;\n",
              "      border-left-color: var(--fill-color);\n",
              "      border-top-color: var(--fill-color);\n",
              "    }\n",
              "    30% {\n",
              "      border-color: transparent;\n",
              "      border-left-color: var(--fill-color);\n",
              "      border-top-color: var(--fill-color);\n",
              "      border-right-color: var(--fill-color);\n",
              "    }\n",
              "    40% {\n",
              "      border-color: transparent;\n",
              "      border-right-color: var(--fill-color);\n",
              "      border-top-color: var(--fill-color);\n",
              "    }\n",
              "    60% {\n",
              "      border-color: transparent;\n",
              "      border-right-color: var(--fill-color);\n",
              "    }\n",
              "    80% {\n",
              "      border-color: transparent;\n",
              "      border-right-color: var(--fill-color);\n",
              "      border-bottom-color: var(--fill-color);\n",
              "    }\n",
              "    90% {\n",
              "      border-color: transparent;\n",
              "      border-bottom-color: var(--fill-color);\n",
              "    }\n",
              "  }\n",
              "</style>\n",
              "\n",
              "  <script>\n",
              "    async function quickchart(key) {\n",
              "      const quickchartButtonEl =\n",
              "        document.querySelector('#' + key + ' button');\n",
              "      quickchartButtonEl.disabled = true;  // To prevent multiple clicks.\n",
              "      quickchartButtonEl.classList.add('colab-df-spinner');\n",
              "      try {\n",
              "        const charts = await google.colab.kernel.invokeFunction(\n",
              "            'suggestCharts', [key], {});\n",
              "      } catch (error) {\n",
              "        console.error('Error during call to suggestCharts:', error);\n",
              "      }\n",
              "      quickchartButtonEl.classList.remove('colab-df-spinner');\n",
              "      quickchartButtonEl.classList.add('colab-df-quickchart-complete');\n",
              "    }\n",
              "    (() => {\n",
              "      let quickchartButtonEl =\n",
              "        document.querySelector('#df-91961cef-6fe5-47ef-913b-c93017fc05ba button');\n",
              "      quickchartButtonEl.style.display =\n",
              "        google.colab.kernel.accessAllowed ? 'block' : 'none';\n",
              "    })();\n",
              "  </script>\n",
              "</div>\n",
              "    </div>\n",
              "  </div>\n"
            ],
            "application/vnd.google.colaboratory.intrinsic+json": {
              "type": "dataframe",
              "variable_name": "df_data",
              "repr_error": "'str' object has no attribute 'empty'"
            }
          },
          "metadata": {},
          "execution_count": 5
        }
      ]
    },
    {
      "cell_type": "code",
      "metadata": {
        "id": "Iy6cDcXAFOsV",
        "colab": {
          "base_uri": "https://localhost:8080/"
        },
        "outputId": "2eced7b3-e8cb-456b-d16a-4349f856a5aa"
      },
      "source": [
        "df_data.shape"
      ],
      "execution_count": 6,
      "outputs": [
        {
          "output_type": "execute_result",
          "data": {
            "text/plain": [
              "(962, 16)"
            ]
          },
          "metadata": {},
          "execution_count": 6
        }
      ]
    },
    {
      "cell_type": "code",
      "source": [
        "df_data.info()"
      ],
      "metadata": {
        "colab": {
          "base_uri": "https://localhost:8080/"
        },
        "id": "9S5YVkg81OES",
        "outputId": "558f2342-f891-457c-a61d-83cab7035050"
      },
      "execution_count": 7,
      "outputs": [
        {
          "output_type": "stream",
          "name": "stdout",
          "text": [
            "<class 'pandas.core.frame.DataFrame'>\n",
            "RangeIndex: 962 entries, 0 to 961\n",
            "Data columns (total 16 columns):\n",
            " #   Column                 Non-Null Count  Dtype \n",
            "---  ------                 --------------  ----- \n",
            " 0   year                   962 non-null    int64 \n",
            " 1   category               962 non-null    object\n",
            " 2   prize                  962 non-null    object\n",
            " 3   motivation             874 non-null    object\n",
            " 4   prize_share            962 non-null    object\n",
            " 5   laureate_type          962 non-null    object\n",
            " 6   full_name              962 non-null    object\n",
            " 7   birth_date             934 non-null    object\n",
            " 8   birth_city             931 non-null    object\n",
            " 9   birth_country          934 non-null    object\n",
            " 10  birth_country_current  934 non-null    object\n",
            " 11  sex                    934 non-null    object\n",
            " 12  organization_name      707 non-null    object\n",
            " 13  organization_city      707 non-null    object\n",
            " 14  organization_country   708 non-null    object\n",
            " 15  ISO                    934 non-null    object\n",
            "dtypes: int64(1), object(15)\n",
            "memory usage: 120.4+ KB\n"
          ]
        }
      ]
    },
    {
      "cell_type": "code",
      "source": [
        "df_data.sort_values('year').head(1)"
      ],
      "metadata": {
        "colab": {
          "base_uri": "https://localhost:8080/",
          "height": 170
        },
        "id": "50OwpGjd1X6q",
        "outputId": "ba479b17-bd66-42f1-a137-b59b7dc0e82f"
      },
      "execution_count": 10,
      "outputs": [
        {
          "output_type": "execute_result",
          "data": {
            "text/plain": [
              "   year   category                              prize  \\\n",
              "0  1901  Chemistry  The Nobel Prize in Chemistry 1901   \n",
              "\n",
              "                                          motivation prize_share  \\\n",
              "0  \"in recognition of the extraordinary services ...         1/1   \n",
              "\n",
              "  laureate_type                     full_name  birth_date birth_city  \\\n",
              "0    Individual  Jacobus Henricus van 't Hoff  1852-08-30  Rotterdam   \n",
              "\n",
              "  birth_country birth_country_current   sex  organization_name  \\\n",
              "0   Netherlands           Netherlands  Male  Berlin University   \n",
              "\n",
              "  organization_city organization_country  ISO  \n",
              "0            Berlin              Germany  NLD  "
            ],
            "text/html": [
              "\n",
              "  <div id=\"df-134046c6-9570-4117-9938-401183632ec0\" class=\"colab-df-container\">\n",
              "    <div>\n",
              "<style scoped>\n",
              "    .dataframe tbody tr th:only-of-type {\n",
              "        vertical-align: middle;\n",
              "    }\n",
              "\n",
              "    .dataframe tbody tr th {\n",
              "        vertical-align: top;\n",
              "    }\n",
              "\n",
              "    .dataframe thead th {\n",
              "        text-align: right;\n",
              "    }\n",
              "</style>\n",
              "<table border=\"1\" class=\"dataframe\">\n",
              "  <thead>\n",
              "    <tr style=\"text-align: right;\">\n",
              "      <th></th>\n",
              "      <th>year</th>\n",
              "      <th>category</th>\n",
              "      <th>prize</th>\n",
              "      <th>motivation</th>\n",
              "      <th>prize_share</th>\n",
              "      <th>laureate_type</th>\n",
              "      <th>full_name</th>\n",
              "      <th>birth_date</th>\n",
              "      <th>birth_city</th>\n",
              "      <th>birth_country</th>\n",
              "      <th>birth_country_current</th>\n",
              "      <th>sex</th>\n",
              "      <th>organization_name</th>\n",
              "      <th>organization_city</th>\n",
              "      <th>organization_country</th>\n",
              "      <th>ISO</th>\n",
              "    </tr>\n",
              "  </thead>\n",
              "  <tbody>\n",
              "    <tr>\n",
              "      <th>0</th>\n",
              "      <td>1901</td>\n",
              "      <td>Chemistry</td>\n",
              "      <td>The Nobel Prize in Chemistry 1901</td>\n",
              "      <td>\"in recognition of the extraordinary services ...</td>\n",
              "      <td>1/1</td>\n",
              "      <td>Individual</td>\n",
              "      <td>Jacobus Henricus van 't Hoff</td>\n",
              "      <td>1852-08-30</td>\n",
              "      <td>Rotterdam</td>\n",
              "      <td>Netherlands</td>\n",
              "      <td>Netherlands</td>\n",
              "      <td>Male</td>\n",
              "      <td>Berlin University</td>\n",
              "      <td>Berlin</td>\n",
              "      <td>Germany</td>\n",
              "      <td>NLD</td>\n",
              "    </tr>\n",
              "  </tbody>\n",
              "</table>\n",
              "</div>\n",
              "    <div class=\"colab-df-buttons\">\n",
              "\n",
              "  <div class=\"colab-df-container\">\n",
              "    <button class=\"colab-df-convert\" onclick=\"convertToInteractive('df-134046c6-9570-4117-9938-401183632ec0')\"\n",
              "            title=\"Convert this dataframe to an interactive table.\"\n",
              "            style=\"display:none;\">\n",
              "\n",
              "  <svg xmlns=\"http://www.w3.org/2000/svg\" height=\"24px\" viewBox=\"0 -960 960 960\">\n",
              "    <path d=\"M120-120v-720h720v720H120Zm60-500h600v-160H180v160Zm220 220h160v-160H400v160Zm0 220h160v-160H400v160ZM180-400h160v-160H180v160Zm440 0h160v-160H620v160ZM180-180h160v-160H180v160Zm440 0h160v-160H620v160Z\"/>\n",
              "  </svg>\n",
              "    </button>\n",
              "\n",
              "  <style>\n",
              "    .colab-df-container {\n",
              "      display:flex;\n",
              "      gap: 12px;\n",
              "    }\n",
              "\n",
              "    .colab-df-convert {\n",
              "      background-color: #E8F0FE;\n",
              "      border: none;\n",
              "      border-radius: 50%;\n",
              "      cursor: pointer;\n",
              "      display: none;\n",
              "      fill: #1967D2;\n",
              "      height: 32px;\n",
              "      padding: 0 0 0 0;\n",
              "      width: 32px;\n",
              "    }\n",
              "\n",
              "    .colab-df-convert:hover {\n",
              "      background-color: #E2EBFA;\n",
              "      box-shadow: 0px 1px 2px rgba(60, 64, 67, 0.3), 0px 1px 3px 1px rgba(60, 64, 67, 0.15);\n",
              "      fill: #174EA6;\n",
              "    }\n",
              "\n",
              "    .colab-df-buttons div {\n",
              "      margin-bottom: 4px;\n",
              "    }\n",
              "\n",
              "    [theme=dark] .colab-df-convert {\n",
              "      background-color: #3B4455;\n",
              "      fill: #D2E3FC;\n",
              "    }\n",
              "\n",
              "    [theme=dark] .colab-df-convert:hover {\n",
              "      background-color: #434B5C;\n",
              "      box-shadow: 0px 1px 3px 1px rgba(0, 0, 0, 0.15);\n",
              "      filter: drop-shadow(0px 1px 2px rgba(0, 0, 0, 0.3));\n",
              "      fill: #FFFFFF;\n",
              "    }\n",
              "  </style>\n",
              "\n",
              "    <script>\n",
              "      const buttonEl =\n",
              "        document.querySelector('#df-134046c6-9570-4117-9938-401183632ec0 button.colab-df-convert');\n",
              "      buttonEl.style.display =\n",
              "        google.colab.kernel.accessAllowed ? 'block' : 'none';\n",
              "\n",
              "      async function convertToInteractive(key) {\n",
              "        const element = document.querySelector('#df-134046c6-9570-4117-9938-401183632ec0');\n",
              "        const dataTable =\n",
              "          await google.colab.kernel.invokeFunction('convertToInteractive',\n",
              "                                                    [key], {});\n",
              "        if (!dataTable) return;\n",
              "\n",
              "        const docLinkHtml = 'Like what you see? Visit the ' +\n",
              "          '<a target=\"_blank\" href=https://colab.research.google.com/notebooks/data_table.ipynb>data table notebook</a>'\n",
              "          + ' to learn more about interactive tables.';\n",
              "        element.innerHTML = '';\n",
              "        dataTable['output_type'] = 'display_data';\n",
              "        await google.colab.output.renderOutput(dataTable, element);\n",
              "        const docLink = document.createElement('div');\n",
              "        docLink.innerHTML = docLinkHtml;\n",
              "        element.appendChild(docLink);\n",
              "      }\n",
              "    </script>\n",
              "  </div>\n",
              "\n",
              "    </div>\n",
              "  </div>\n"
            ],
            "application/vnd.google.colaboratory.intrinsic+json": {
              "type": "dataframe",
              "repr_error": "'str' object has no attribute 'empty'"
            }
          },
          "metadata": {},
          "execution_count": 10
        }
      ]
    },
    {
      "cell_type": "code",
      "source": [
        "df_data.sort_values('year', ascending=False).head(1)"
      ],
      "metadata": {
        "colab": {
          "base_uri": "https://localhost:8080/",
          "height": 188
        },
        "id": "Jxd1Ow_X1oCW",
        "outputId": "cdca3399-8d6c-4f39-d6e6-dd025741e8a3"
      },
      "execution_count": 11,
      "outputs": [
        {
          "output_type": "execute_result",
          "data": {
            "text/plain": [
              "     year category                            prize  \\\n",
              "961  2020  Physics  The Nobel Prize in Physics 2020   \n",
              "\n",
              "                                            motivation prize_share  \\\n",
              "961  “for the discovery that black hole formation i...         1/2   \n",
              "\n",
              "    laureate_type      full_name  birth_date  birth_city   birth_country  \\\n",
              "961    Individual  Roger Penrose  1931-08-08  Colchester  United Kingdom   \n",
              "\n",
              "    birth_country_current   sex     organization_name organization_city  \\\n",
              "961        United Kingdom  Male  University of Oxford            Oxford   \n",
              "\n",
              "    organization_country  ISO  \n",
              "961       United Kingdom  GBR  "
            ],
            "text/html": [
              "\n",
              "  <div id=\"df-d06d56de-7838-4176-8f9f-e97c635002d3\" class=\"colab-df-container\">\n",
              "    <div>\n",
              "<style scoped>\n",
              "    .dataframe tbody tr th:only-of-type {\n",
              "        vertical-align: middle;\n",
              "    }\n",
              "\n",
              "    .dataframe tbody tr th {\n",
              "        vertical-align: top;\n",
              "    }\n",
              "\n",
              "    .dataframe thead th {\n",
              "        text-align: right;\n",
              "    }\n",
              "</style>\n",
              "<table border=\"1\" class=\"dataframe\">\n",
              "  <thead>\n",
              "    <tr style=\"text-align: right;\">\n",
              "      <th></th>\n",
              "      <th>year</th>\n",
              "      <th>category</th>\n",
              "      <th>prize</th>\n",
              "      <th>motivation</th>\n",
              "      <th>prize_share</th>\n",
              "      <th>laureate_type</th>\n",
              "      <th>full_name</th>\n",
              "      <th>birth_date</th>\n",
              "      <th>birth_city</th>\n",
              "      <th>birth_country</th>\n",
              "      <th>birth_country_current</th>\n",
              "      <th>sex</th>\n",
              "      <th>organization_name</th>\n",
              "      <th>organization_city</th>\n",
              "      <th>organization_country</th>\n",
              "      <th>ISO</th>\n",
              "    </tr>\n",
              "  </thead>\n",
              "  <tbody>\n",
              "    <tr>\n",
              "      <th>961</th>\n",
              "      <td>2020</td>\n",
              "      <td>Physics</td>\n",
              "      <td>The Nobel Prize in Physics 2020</td>\n",
              "      <td>“for the discovery that black hole formation i...</td>\n",
              "      <td>1/2</td>\n",
              "      <td>Individual</td>\n",
              "      <td>Roger Penrose</td>\n",
              "      <td>1931-08-08</td>\n",
              "      <td>Colchester</td>\n",
              "      <td>United Kingdom</td>\n",
              "      <td>United Kingdom</td>\n",
              "      <td>Male</td>\n",
              "      <td>University of Oxford</td>\n",
              "      <td>Oxford</td>\n",
              "      <td>United Kingdom</td>\n",
              "      <td>GBR</td>\n",
              "    </tr>\n",
              "  </tbody>\n",
              "</table>\n",
              "</div>\n",
              "    <div class=\"colab-df-buttons\">\n",
              "\n",
              "  <div class=\"colab-df-container\">\n",
              "    <button class=\"colab-df-convert\" onclick=\"convertToInteractive('df-d06d56de-7838-4176-8f9f-e97c635002d3')\"\n",
              "            title=\"Convert this dataframe to an interactive table.\"\n",
              "            style=\"display:none;\">\n",
              "\n",
              "  <svg xmlns=\"http://www.w3.org/2000/svg\" height=\"24px\" viewBox=\"0 -960 960 960\">\n",
              "    <path d=\"M120-120v-720h720v720H120Zm60-500h600v-160H180v160Zm220 220h160v-160H400v160Zm0 220h160v-160H400v160ZM180-400h160v-160H180v160Zm440 0h160v-160H620v160ZM180-180h160v-160H180v160Zm440 0h160v-160H620v160Z\"/>\n",
              "  </svg>\n",
              "    </button>\n",
              "\n",
              "  <style>\n",
              "    .colab-df-container {\n",
              "      display:flex;\n",
              "      gap: 12px;\n",
              "    }\n",
              "\n",
              "    .colab-df-convert {\n",
              "      background-color: #E8F0FE;\n",
              "      border: none;\n",
              "      border-radius: 50%;\n",
              "      cursor: pointer;\n",
              "      display: none;\n",
              "      fill: #1967D2;\n",
              "      height: 32px;\n",
              "      padding: 0 0 0 0;\n",
              "      width: 32px;\n",
              "    }\n",
              "\n",
              "    .colab-df-convert:hover {\n",
              "      background-color: #E2EBFA;\n",
              "      box-shadow: 0px 1px 2px rgba(60, 64, 67, 0.3), 0px 1px 3px 1px rgba(60, 64, 67, 0.15);\n",
              "      fill: #174EA6;\n",
              "    }\n",
              "\n",
              "    .colab-df-buttons div {\n",
              "      margin-bottom: 4px;\n",
              "    }\n",
              "\n",
              "    [theme=dark] .colab-df-convert {\n",
              "      background-color: #3B4455;\n",
              "      fill: #D2E3FC;\n",
              "    }\n",
              "\n",
              "    [theme=dark] .colab-df-convert:hover {\n",
              "      background-color: #434B5C;\n",
              "      box-shadow: 0px 1px 3px 1px rgba(0, 0, 0, 0.15);\n",
              "      filter: drop-shadow(0px 1px 2px rgba(0, 0, 0, 0.3));\n",
              "      fill: #FFFFFF;\n",
              "    }\n",
              "  </style>\n",
              "\n",
              "    <script>\n",
              "      const buttonEl =\n",
              "        document.querySelector('#df-d06d56de-7838-4176-8f9f-e97c635002d3 button.colab-df-convert');\n",
              "      buttonEl.style.display =\n",
              "        google.colab.kernel.accessAllowed ? 'block' : 'none';\n",
              "\n",
              "      async function convertToInteractive(key) {\n",
              "        const element = document.querySelector('#df-d06d56de-7838-4176-8f9f-e97c635002d3');\n",
              "        const dataTable =\n",
              "          await google.colab.kernel.invokeFunction('convertToInteractive',\n",
              "                                                    [key], {});\n",
              "        if (!dataTable) return;\n",
              "\n",
              "        const docLinkHtml = 'Like what you see? Visit the ' +\n",
              "          '<a target=\"_blank\" href=https://colab.research.google.com/notebooks/data_table.ipynb>data table notebook</a>'\n",
              "          + ' to learn more about interactive tables.';\n",
              "        element.innerHTML = '';\n",
              "        dataTable['output_type'] = 'display_data';\n",
              "        await google.colab.output.renderOutput(dataTable, element);\n",
              "        const docLink = document.createElement('div');\n",
              "        docLink.innerHTML = docLinkHtml;\n",
              "        element.appendChild(docLink);\n",
              "      }\n",
              "    </script>\n",
              "  </div>\n",
              "\n",
              "    </div>\n",
              "  </div>\n"
            ],
            "application/vnd.google.colaboratory.intrinsic+json": {
              "type": "dataframe",
              "repr_error": "'str' object has no attribute 'empty'"
            }
          },
          "metadata": {},
          "execution_count": 11
        }
      ]
    },
    {
      "cell_type": "markdown",
      "metadata": {
        "id": "SjA1sZPPMH_Y"
      },
      "source": [
        "**Challange**:\n",
        "* Are there any duplicate values in the dataset?\n",
        "* Are there NaN values in the dataset?\n",
        "* Which columns tend to have NaN values?\n",
        "* How many NaN values are there per column?\n",
        "* Why do these columns have NaN values?  "
      ]
    },
    {
      "cell_type": "markdown",
      "metadata": {
        "id": "q1EuEZV7o7Lb"
      },
      "source": [
        "### Check for Duplicates"
      ]
    },
    {
      "cell_type": "code",
      "metadata": {
        "id": "v976ftCaFRFN",
        "colab": {
          "base_uri": "https://localhost:8080/"
        },
        "outputId": "82528e38-d4c6-40a8-ddad-6cc07774b4c0"
      },
      "source": [
        "df_data.duplicated().sum()"
      ],
      "execution_count": 12,
      "outputs": [
        {
          "output_type": "execute_result",
          "data": {
            "text/plain": [
              "0"
            ]
          },
          "metadata": {},
          "execution_count": 12
        }
      ]
    },
    {
      "cell_type": "markdown",
      "metadata": {
        "id": "w69xDtpzo7Ld"
      },
      "source": [
        "### Check for NaN Values"
      ]
    },
    {
      "cell_type": "code",
      "metadata": {
        "id": "gvpa0A0OFQ4z",
        "colab": {
          "base_uri": "https://localhost:8080/"
        },
        "outputId": "314aee23-b9d9-40e2-a331-b13c56730329"
      },
      "source": [
        "df_data.isna().any()"
      ],
      "execution_count": 13,
      "outputs": [
        {
          "output_type": "execute_result",
          "data": {
            "text/plain": [
              "year                     False\n",
              "category                 False\n",
              "prize                    False\n",
              "motivation                True\n",
              "prize_share              False\n",
              "laureate_type            False\n",
              "full_name                False\n",
              "birth_date                True\n",
              "birth_city                True\n",
              "birth_country             True\n",
              "birth_country_current     True\n",
              "sex                       True\n",
              "organization_name         True\n",
              "organization_city         True\n",
              "organization_country      True\n",
              "ISO                       True\n",
              "dtype: bool"
            ]
          },
          "metadata": {},
          "execution_count": 13
        }
      ]
    },
    {
      "cell_type": "code",
      "source": [
        "df_data.isna().sum()"
      ],
      "metadata": {
        "colab": {
          "base_uri": "https://localhost:8080/"
        },
        "id": "AOqRx4qd2KzA",
        "outputId": "ebcfc23c-a70a-4da7-bd36-3a040a18d11e"
      },
      "execution_count": 14,
      "outputs": [
        {
          "output_type": "execute_result",
          "data": {
            "text/plain": [
              "year                       0\n",
              "category                   0\n",
              "prize                      0\n",
              "motivation                88\n",
              "prize_share                0\n",
              "laureate_type              0\n",
              "full_name                  0\n",
              "birth_date                28\n",
              "birth_city                31\n",
              "birth_country             28\n",
              "birth_country_current     28\n",
              "sex                       28\n",
              "organization_name        255\n",
              "organization_city        255\n",
              "organization_country     254\n",
              "ISO                       28\n",
              "dtype: int64"
            ]
          },
          "metadata": {},
          "execution_count": 14
        }
      ]
    },
    {
      "cell_type": "code",
      "metadata": {
        "id": "HgbI5sQNFStg",
        "colab": {
          "base_uri": "https://localhost:8080/"
        },
        "outputId": "6df80814-9b26-414e-bdcc-0783b2dca44e"
      },
      "source": [
        "df_data.isna().sum() / len(df_data)"
      ],
      "execution_count": 15,
      "outputs": [
        {
          "output_type": "execute_result",
          "data": {
            "text/plain": [
              "year                    0.00\n",
              "category                0.00\n",
              "prize                   0.00\n",
              "motivation              0.09\n",
              "prize_share             0.00\n",
              "laureate_type           0.00\n",
              "full_name               0.00\n",
              "birth_date              0.03\n",
              "birth_city              0.03\n",
              "birth_country           0.03\n",
              "birth_country_current   0.03\n",
              "sex                     0.03\n",
              "organization_name       0.27\n",
              "organization_city       0.27\n",
              "organization_country    0.26\n",
              "ISO                     0.03\n",
              "dtype: float64"
            ]
          },
          "metadata": {},
          "execution_count": 15
        }
      ]
    },
    {
      "cell_type": "code",
      "source": [
        "col_subset = ['year','category', 'laureate_type',\n",
        "              'birth_date','full_name', 'organization_name']\n",
        "df_data.loc[df_data.birth_date.isna()][col_subset]"
      ],
      "metadata": {
        "colab": {
          "base_uri": "https://localhost:8080/",
          "height": 927
        },
        "id": "IUsS9H4h2tY4",
        "outputId": "22508de8-16a2-40d0-978e-57ca5e88c61d"
      },
      "execution_count": 16,
      "outputs": [
        {
          "output_type": "execute_result",
          "data": {
            "text/plain": [
              "     year category laureate_type birth_date  \\\n",
              "24   1904    Peace  Organization        NaN   \n",
              "60   1910    Peace  Organization        NaN   \n",
              "89   1917    Peace  Organization        NaN   \n",
              "200  1938    Peace  Organization        NaN   \n",
              "215  1944    Peace  Organization        NaN   \n",
              "237  1947    Peace  Organization        NaN   \n",
              "238  1947    Peace  Organization        NaN   \n",
              "283  1954    Peace  Organization        NaN   \n",
              "348  1963    Peace  Organization        NaN   \n",
              "349  1963    Peace  Organization        NaN   \n",
              "366  1965    Peace  Organization        NaN   \n",
              "399  1969    Peace  Organization        NaN   \n",
              "479  1977    Peace  Organization        NaN   \n",
              "523  1981    Peace  Organization        NaN   \n",
              "558  1985    Peace  Organization        NaN   \n",
              "588  1988    Peace  Organization        NaN   \n",
              "659  1995    Peace  Organization        NaN   \n",
              "682  1997    Peace  Organization        NaN   \n",
              "703  1999    Peace  Organization        NaN   \n",
              "730  2001    Peace  Organization        NaN   \n",
              "778  2005    Peace  Organization        NaN   \n",
              "788  2006    Peace  Organization        NaN   \n",
              "801  2007    Peace  Organization        NaN   \n",
              "860  2012    Peace  Organization        NaN   \n",
              "873  2013    Peace  Organization        NaN   \n",
              "897  2015    Peace  Organization        NaN   \n",
              "919  2017    Peace  Organization        NaN   \n",
              "958  2020    Peace  Organization        NaN   \n",
              "\n",
              "                                             full_name organization_name  \n",
              "24   Institut de droit international (Institute of ...               NaN  \n",
              "60   Bureau international permanent de la Paix (Per...               NaN  \n",
              "89   Comité international de la Croix Rouge (Intern...               NaN  \n",
              "200  Office international Nansen pour les Réfugiés ...               NaN  \n",
              "215  Comité international de la Croix Rouge (Intern...               NaN  \n",
              "237   American Friends Service Committee (The Quakers)               NaN  \n",
              "238              Friends Service Council (The Quakers)               NaN  \n",
              "283  Office of the United Nations High Commissioner...               NaN  \n",
              "348  Comité international de la Croix Rouge (Intern...               NaN  \n",
              "349  Ligue des Sociétés de la Croix-Rouge (League o...               NaN  \n",
              "366            United Nations Children's Fund (UNICEF)               NaN  \n",
              "399         International Labour Organization (I.L.O.)               NaN  \n",
              "479                              Amnesty International               NaN  \n",
              "523  Office of the United Nations High Commissioner...               NaN  \n",
              "558  International Physicians for the Prevention of...               NaN  \n",
              "588                 United Nations Peacekeeping Forces               NaN  \n",
              "659   Pugwash Conferences on Science and World Affairs               NaN  \n",
              "682     International Campaign to Ban Landmines (ICBL)               NaN  \n",
              "703                           Médecins Sans Frontières               NaN  \n",
              "730                              United Nations (U.N.)               NaN  \n",
              "778          International Atomic Energy Agency (IAEA)               NaN  \n",
              "788                                       Grameen Bank               NaN  \n",
              "801   Intergovernmental Panel on Climate Change (IPCC)               NaN  \n",
              "860                                European Union (EU)               NaN  \n",
              "873  Organisation for the Prohibition of Chemical W...               NaN  \n",
              "897                          National Dialogue Quartet               NaN  \n",
              "919  International Campaign to Abolish Nuclear Weap...               NaN  \n",
              "958                         World Food Programme (WFP)               NaN  "
            ],
            "text/html": [
              "\n",
              "  <div id=\"df-266c5d99-64c9-4a6d-854a-324fa2ec493b\" class=\"colab-df-container\">\n",
              "    <div>\n",
              "<style scoped>\n",
              "    .dataframe tbody tr th:only-of-type {\n",
              "        vertical-align: middle;\n",
              "    }\n",
              "\n",
              "    .dataframe tbody tr th {\n",
              "        vertical-align: top;\n",
              "    }\n",
              "\n",
              "    .dataframe thead th {\n",
              "        text-align: right;\n",
              "    }\n",
              "</style>\n",
              "<table border=\"1\" class=\"dataframe\">\n",
              "  <thead>\n",
              "    <tr style=\"text-align: right;\">\n",
              "      <th></th>\n",
              "      <th>year</th>\n",
              "      <th>category</th>\n",
              "      <th>laureate_type</th>\n",
              "      <th>birth_date</th>\n",
              "      <th>full_name</th>\n",
              "      <th>organization_name</th>\n",
              "    </tr>\n",
              "  </thead>\n",
              "  <tbody>\n",
              "    <tr>\n",
              "      <th>24</th>\n",
              "      <td>1904</td>\n",
              "      <td>Peace</td>\n",
              "      <td>Organization</td>\n",
              "      <td>NaN</td>\n",
              "      <td>Institut de droit international (Institute of ...</td>\n",
              "      <td>NaN</td>\n",
              "    </tr>\n",
              "    <tr>\n",
              "      <th>60</th>\n",
              "      <td>1910</td>\n",
              "      <td>Peace</td>\n",
              "      <td>Organization</td>\n",
              "      <td>NaN</td>\n",
              "      <td>Bureau international permanent de la Paix (Per...</td>\n",
              "      <td>NaN</td>\n",
              "    </tr>\n",
              "    <tr>\n",
              "      <th>89</th>\n",
              "      <td>1917</td>\n",
              "      <td>Peace</td>\n",
              "      <td>Organization</td>\n",
              "      <td>NaN</td>\n",
              "      <td>Comité international de la Croix Rouge (Intern...</td>\n",
              "      <td>NaN</td>\n",
              "    </tr>\n",
              "    <tr>\n",
              "      <th>200</th>\n",
              "      <td>1938</td>\n",
              "      <td>Peace</td>\n",
              "      <td>Organization</td>\n",
              "      <td>NaN</td>\n",
              "      <td>Office international Nansen pour les Réfugiés ...</td>\n",
              "      <td>NaN</td>\n",
              "    </tr>\n",
              "    <tr>\n",
              "      <th>215</th>\n",
              "      <td>1944</td>\n",
              "      <td>Peace</td>\n",
              "      <td>Organization</td>\n",
              "      <td>NaN</td>\n",
              "      <td>Comité international de la Croix Rouge (Intern...</td>\n",
              "      <td>NaN</td>\n",
              "    </tr>\n",
              "    <tr>\n",
              "      <th>237</th>\n",
              "      <td>1947</td>\n",
              "      <td>Peace</td>\n",
              "      <td>Organization</td>\n",
              "      <td>NaN</td>\n",
              "      <td>American Friends Service Committee (The Quakers)</td>\n",
              "      <td>NaN</td>\n",
              "    </tr>\n",
              "    <tr>\n",
              "      <th>238</th>\n",
              "      <td>1947</td>\n",
              "      <td>Peace</td>\n",
              "      <td>Organization</td>\n",
              "      <td>NaN</td>\n",
              "      <td>Friends Service Council (The Quakers)</td>\n",
              "      <td>NaN</td>\n",
              "    </tr>\n",
              "    <tr>\n",
              "      <th>283</th>\n",
              "      <td>1954</td>\n",
              "      <td>Peace</td>\n",
              "      <td>Organization</td>\n",
              "      <td>NaN</td>\n",
              "      <td>Office of the United Nations High Commissioner...</td>\n",
              "      <td>NaN</td>\n",
              "    </tr>\n",
              "    <tr>\n",
              "      <th>348</th>\n",
              "      <td>1963</td>\n",
              "      <td>Peace</td>\n",
              "      <td>Organization</td>\n",
              "      <td>NaN</td>\n",
              "      <td>Comité international de la Croix Rouge (Intern...</td>\n",
              "      <td>NaN</td>\n",
              "    </tr>\n",
              "    <tr>\n",
              "      <th>349</th>\n",
              "      <td>1963</td>\n",
              "      <td>Peace</td>\n",
              "      <td>Organization</td>\n",
              "      <td>NaN</td>\n",
              "      <td>Ligue des Sociétés de la Croix-Rouge (League o...</td>\n",
              "      <td>NaN</td>\n",
              "    </tr>\n",
              "    <tr>\n",
              "      <th>366</th>\n",
              "      <td>1965</td>\n",
              "      <td>Peace</td>\n",
              "      <td>Organization</td>\n",
              "      <td>NaN</td>\n",
              "      <td>United Nations Children's Fund (UNICEF)</td>\n",
              "      <td>NaN</td>\n",
              "    </tr>\n",
              "    <tr>\n",
              "      <th>399</th>\n",
              "      <td>1969</td>\n",
              "      <td>Peace</td>\n",
              "      <td>Organization</td>\n",
              "      <td>NaN</td>\n",
              "      <td>International Labour Organization (I.L.O.)</td>\n",
              "      <td>NaN</td>\n",
              "    </tr>\n",
              "    <tr>\n",
              "      <th>479</th>\n",
              "      <td>1977</td>\n",
              "      <td>Peace</td>\n",
              "      <td>Organization</td>\n",
              "      <td>NaN</td>\n",
              "      <td>Amnesty International</td>\n",
              "      <td>NaN</td>\n",
              "    </tr>\n",
              "    <tr>\n",
              "      <th>523</th>\n",
              "      <td>1981</td>\n",
              "      <td>Peace</td>\n",
              "      <td>Organization</td>\n",
              "      <td>NaN</td>\n",
              "      <td>Office of the United Nations High Commissioner...</td>\n",
              "      <td>NaN</td>\n",
              "    </tr>\n",
              "    <tr>\n",
              "      <th>558</th>\n",
              "      <td>1985</td>\n",
              "      <td>Peace</td>\n",
              "      <td>Organization</td>\n",
              "      <td>NaN</td>\n",
              "      <td>International Physicians for the Prevention of...</td>\n",
              "      <td>NaN</td>\n",
              "    </tr>\n",
              "    <tr>\n",
              "      <th>588</th>\n",
              "      <td>1988</td>\n",
              "      <td>Peace</td>\n",
              "      <td>Organization</td>\n",
              "      <td>NaN</td>\n",
              "      <td>United Nations Peacekeeping Forces</td>\n",
              "      <td>NaN</td>\n",
              "    </tr>\n",
              "    <tr>\n",
              "      <th>659</th>\n",
              "      <td>1995</td>\n",
              "      <td>Peace</td>\n",
              "      <td>Organization</td>\n",
              "      <td>NaN</td>\n",
              "      <td>Pugwash Conferences on Science and World Affairs</td>\n",
              "      <td>NaN</td>\n",
              "    </tr>\n",
              "    <tr>\n",
              "      <th>682</th>\n",
              "      <td>1997</td>\n",
              "      <td>Peace</td>\n",
              "      <td>Organization</td>\n",
              "      <td>NaN</td>\n",
              "      <td>International Campaign to Ban Landmines (ICBL)</td>\n",
              "      <td>NaN</td>\n",
              "    </tr>\n",
              "    <tr>\n",
              "      <th>703</th>\n",
              "      <td>1999</td>\n",
              "      <td>Peace</td>\n",
              "      <td>Organization</td>\n",
              "      <td>NaN</td>\n",
              "      <td>Médecins Sans Frontières</td>\n",
              "      <td>NaN</td>\n",
              "    </tr>\n",
              "    <tr>\n",
              "      <th>730</th>\n",
              "      <td>2001</td>\n",
              "      <td>Peace</td>\n",
              "      <td>Organization</td>\n",
              "      <td>NaN</td>\n",
              "      <td>United Nations (U.N.)</td>\n",
              "      <td>NaN</td>\n",
              "    </tr>\n",
              "    <tr>\n",
              "      <th>778</th>\n",
              "      <td>2005</td>\n",
              "      <td>Peace</td>\n",
              "      <td>Organization</td>\n",
              "      <td>NaN</td>\n",
              "      <td>International Atomic Energy Agency (IAEA)</td>\n",
              "      <td>NaN</td>\n",
              "    </tr>\n",
              "    <tr>\n",
              "      <th>788</th>\n",
              "      <td>2006</td>\n",
              "      <td>Peace</td>\n",
              "      <td>Organization</td>\n",
              "      <td>NaN</td>\n",
              "      <td>Grameen Bank</td>\n",
              "      <td>NaN</td>\n",
              "    </tr>\n",
              "    <tr>\n",
              "      <th>801</th>\n",
              "      <td>2007</td>\n",
              "      <td>Peace</td>\n",
              "      <td>Organization</td>\n",
              "      <td>NaN</td>\n",
              "      <td>Intergovernmental Panel on Climate Change (IPCC)</td>\n",
              "      <td>NaN</td>\n",
              "    </tr>\n",
              "    <tr>\n",
              "      <th>860</th>\n",
              "      <td>2012</td>\n",
              "      <td>Peace</td>\n",
              "      <td>Organization</td>\n",
              "      <td>NaN</td>\n",
              "      <td>European Union (EU)</td>\n",
              "      <td>NaN</td>\n",
              "    </tr>\n",
              "    <tr>\n",
              "      <th>873</th>\n",
              "      <td>2013</td>\n",
              "      <td>Peace</td>\n",
              "      <td>Organization</td>\n",
              "      <td>NaN</td>\n",
              "      <td>Organisation for the Prohibition of Chemical W...</td>\n",
              "      <td>NaN</td>\n",
              "    </tr>\n",
              "    <tr>\n",
              "      <th>897</th>\n",
              "      <td>2015</td>\n",
              "      <td>Peace</td>\n",
              "      <td>Organization</td>\n",
              "      <td>NaN</td>\n",
              "      <td>National Dialogue Quartet</td>\n",
              "      <td>NaN</td>\n",
              "    </tr>\n",
              "    <tr>\n",
              "      <th>919</th>\n",
              "      <td>2017</td>\n",
              "      <td>Peace</td>\n",
              "      <td>Organization</td>\n",
              "      <td>NaN</td>\n",
              "      <td>International Campaign to Abolish Nuclear Weap...</td>\n",
              "      <td>NaN</td>\n",
              "    </tr>\n",
              "    <tr>\n",
              "      <th>958</th>\n",
              "      <td>2020</td>\n",
              "      <td>Peace</td>\n",
              "      <td>Organization</td>\n",
              "      <td>NaN</td>\n",
              "      <td>World Food Programme (WFP)</td>\n",
              "      <td>NaN</td>\n",
              "    </tr>\n",
              "  </tbody>\n",
              "</table>\n",
              "</div>\n",
              "    <div class=\"colab-df-buttons\">\n",
              "\n",
              "  <div class=\"colab-df-container\">\n",
              "    <button class=\"colab-df-convert\" onclick=\"convertToInteractive('df-266c5d99-64c9-4a6d-854a-324fa2ec493b')\"\n",
              "            title=\"Convert this dataframe to an interactive table.\"\n",
              "            style=\"display:none;\">\n",
              "\n",
              "  <svg xmlns=\"http://www.w3.org/2000/svg\" height=\"24px\" viewBox=\"0 -960 960 960\">\n",
              "    <path d=\"M120-120v-720h720v720H120Zm60-500h600v-160H180v160Zm220 220h160v-160H400v160Zm0 220h160v-160H400v160ZM180-400h160v-160H180v160Zm440 0h160v-160H620v160ZM180-180h160v-160H180v160Zm440 0h160v-160H620v160Z\"/>\n",
              "  </svg>\n",
              "    </button>\n",
              "\n",
              "  <style>\n",
              "    .colab-df-container {\n",
              "      display:flex;\n",
              "      gap: 12px;\n",
              "    }\n",
              "\n",
              "    .colab-df-convert {\n",
              "      background-color: #E8F0FE;\n",
              "      border: none;\n",
              "      border-radius: 50%;\n",
              "      cursor: pointer;\n",
              "      display: none;\n",
              "      fill: #1967D2;\n",
              "      height: 32px;\n",
              "      padding: 0 0 0 0;\n",
              "      width: 32px;\n",
              "    }\n",
              "\n",
              "    .colab-df-convert:hover {\n",
              "      background-color: #E2EBFA;\n",
              "      box-shadow: 0px 1px 2px rgba(60, 64, 67, 0.3), 0px 1px 3px 1px rgba(60, 64, 67, 0.15);\n",
              "      fill: #174EA6;\n",
              "    }\n",
              "\n",
              "    .colab-df-buttons div {\n",
              "      margin-bottom: 4px;\n",
              "    }\n",
              "\n",
              "    [theme=dark] .colab-df-convert {\n",
              "      background-color: #3B4455;\n",
              "      fill: #D2E3FC;\n",
              "    }\n",
              "\n",
              "    [theme=dark] .colab-df-convert:hover {\n",
              "      background-color: #434B5C;\n",
              "      box-shadow: 0px 1px 3px 1px rgba(0, 0, 0, 0.15);\n",
              "      filter: drop-shadow(0px 1px 2px rgba(0, 0, 0, 0.3));\n",
              "      fill: #FFFFFF;\n",
              "    }\n",
              "  </style>\n",
              "\n",
              "    <script>\n",
              "      const buttonEl =\n",
              "        document.querySelector('#df-266c5d99-64c9-4a6d-854a-324fa2ec493b button.colab-df-convert');\n",
              "      buttonEl.style.display =\n",
              "        google.colab.kernel.accessAllowed ? 'block' : 'none';\n",
              "\n",
              "      async function convertToInteractive(key) {\n",
              "        const element = document.querySelector('#df-266c5d99-64c9-4a6d-854a-324fa2ec493b');\n",
              "        const dataTable =\n",
              "          await google.colab.kernel.invokeFunction('convertToInteractive',\n",
              "                                                    [key], {});\n",
              "        if (!dataTable) return;\n",
              "\n",
              "        const docLinkHtml = 'Like what you see? Visit the ' +\n",
              "          '<a target=\"_blank\" href=https://colab.research.google.com/notebooks/data_table.ipynb>data table notebook</a>'\n",
              "          + ' to learn more about interactive tables.';\n",
              "        element.innerHTML = '';\n",
              "        dataTable['output_type'] = 'display_data';\n",
              "        await google.colab.output.renderOutput(dataTable, element);\n",
              "        const docLink = document.createElement('div');\n",
              "        docLink.innerHTML = docLinkHtml;\n",
              "        element.appendChild(docLink);\n",
              "      }\n",
              "    </script>\n",
              "  </div>\n",
              "\n",
              "\n",
              "<div id=\"df-234c83d8-09d8-4d0c-8a0d-9d8c8e81e529\">\n",
              "  <button class=\"colab-df-quickchart\" onclick=\"quickchart('df-234c83d8-09d8-4d0c-8a0d-9d8c8e81e529')\"\n",
              "            title=\"Suggest charts\"\n",
              "            style=\"display:none;\">\n",
              "\n",
              "<svg xmlns=\"http://www.w3.org/2000/svg\" height=\"24px\"viewBox=\"0 0 24 24\"\n",
              "     width=\"24px\">\n",
              "    <g>\n",
              "        <path d=\"M19 3H5c-1.1 0-2 .9-2 2v14c0 1.1.9 2 2 2h14c1.1 0 2-.9 2-2V5c0-1.1-.9-2-2-2zM9 17H7v-7h2v7zm4 0h-2V7h2v10zm4 0h-2v-4h2v4z\"/>\n",
              "    </g>\n",
              "</svg>\n",
              "  </button>\n",
              "\n",
              "<style>\n",
              "  .colab-df-quickchart {\n",
              "      --bg-color: #E8F0FE;\n",
              "      --fill-color: #1967D2;\n",
              "      --hover-bg-color: #E2EBFA;\n",
              "      --hover-fill-color: #174EA6;\n",
              "      --disabled-fill-color: #AAA;\n",
              "      --disabled-bg-color: #DDD;\n",
              "  }\n",
              "\n",
              "  [theme=dark] .colab-df-quickchart {\n",
              "      --bg-color: #3B4455;\n",
              "      --fill-color: #D2E3FC;\n",
              "      --hover-bg-color: #434B5C;\n",
              "      --hover-fill-color: #FFFFFF;\n",
              "      --disabled-bg-color: #3B4455;\n",
              "      --disabled-fill-color: #666;\n",
              "  }\n",
              "\n",
              "  .colab-df-quickchart {\n",
              "    background-color: var(--bg-color);\n",
              "    border: none;\n",
              "    border-radius: 50%;\n",
              "    cursor: pointer;\n",
              "    display: none;\n",
              "    fill: var(--fill-color);\n",
              "    height: 32px;\n",
              "    padding: 0;\n",
              "    width: 32px;\n",
              "  }\n",
              "\n",
              "  .colab-df-quickchart:hover {\n",
              "    background-color: var(--hover-bg-color);\n",
              "    box-shadow: 0 1px 2px rgba(60, 64, 67, 0.3), 0 1px 3px 1px rgba(60, 64, 67, 0.15);\n",
              "    fill: var(--button-hover-fill-color);\n",
              "  }\n",
              "\n",
              "  .colab-df-quickchart-complete:disabled,\n",
              "  .colab-df-quickchart-complete:disabled:hover {\n",
              "    background-color: var(--disabled-bg-color);\n",
              "    fill: var(--disabled-fill-color);\n",
              "    box-shadow: none;\n",
              "  }\n",
              "\n",
              "  .colab-df-spinner {\n",
              "    border: 2px solid var(--fill-color);\n",
              "    border-color: transparent;\n",
              "    border-bottom-color: var(--fill-color);\n",
              "    animation:\n",
              "      spin 1s steps(1) infinite;\n",
              "  }\n",
              "\n",
              "  @keyframes spin {\n",
              "    0% {\n",
              "      border-color: transparent;\n",
              "      border-bottom-color: var(--fill-color);\n",
              "      border-left-color: var(--fill-color);\n",
              "    }\n",
              "    20% {\n",
              "      border-color: transparent;\n",
              "      border-left-color: var(--fill-color);\n",
              "      border-top-color: var(--fill-color);\n",
              "    }\n",
              "    30% {\n",
              "      border-color: transparent;\n",
              "      border-left-color: var(--fill-color);\n",
              "      border-top-color: var(--fill-color);\n",
              "      border-right-color: var(--fill-color);\n",
              "    }\n",
              "    40% {\n",
              "      border-color: transparent;\n",
              "      border-right-color: var(--fill-color);\n",
              "      border-top-color: var(--fill-color);\n",
              "    }\n",
              "    60% {\n",
              "      border-color: transparent;\n",
              "      border-right-color: var(--fill-color);\n",
              "    }\n",
              "    80% {\n",
              "      border-color: transparent;\n",
              "      border-right-color: var(--fill-color);\n",
              "      border-bottom-color: var(--fill-color);\n",
              "    }\n",
              "    90% {\n",
              "      border-color: transparent;\n",
              "      border-bottom-color: var(--fill-color);\n",
              "    }\n",
              "  }\n",
              "</style>\n",
              "\n",
              "  <script>\n",
              "    async function quickchart(key) {\n",
              "      const quickchartButtonEl =\n",
              "        document.querySelector('#' + key + ' button');\n",
              "      quickchartButtonEl.disabled = true;  // To prevent multiple clicks.\n",
              "      quickchartButtonEl.classList.add('colab-df-spinner');\n",
              "      try {\n",
              "        const charts = await google.colab.kernel.invokeFunction(\n",
              "            'suggestCharts', [key], {});\n",
              "      } catch (error) {\n",
              "        console.error('Error during call to suggestCharts:', error);\n",
              "      }\n",
              "      quickchartButtonEl.classList.remove('colab-df-spinner');\n",
              "      quickchartButtonEl.classList.add('colab-df-quickchart-complete');\n",
              "    }\n",
              "    (() => {\n",
              "      let quickchartButtonEl =\n",
              "        document.querySelector('#df-234c83d8-09d8-4d0c-8a0d-9d8c8e81e529 button');\n",
              "      quickchartButtonEl.style.display =\n",
              "        google.colab.kernel.accessAllowed ? 'block' : 'none';\n",
              "    })();\n",
              "  </script>\n",
              "</div>\n",
              "    </div>\n",
              "  </div>\n"
            ],
            "application/vnd.google.colaboratory.intrinsic+json": {
              "type": "dataframe",
              "repr_error": "'str' object has no attribute 'empty'"
            }
          },
          "metadata": {},
          "execution_count": 16
        }
      ]
    },
    {
      "cell_type": "markdown",
      "source": [
        "That makes sense. We also see that since the organisation's name is in the full_name column, the organisation_name column contains NaN.\n",
        "\n",
        "In addition, when we look at for rows where the organization_name column has no value, we also see that many prizes went to people who were not affiliated with a university or research institute. This includes many of the Literature and Peace prize winners."
      ],
      "metadata": {
        "id": "BIaQYLDG3EFV"
      }
    },
    {
      "cell_type": "markdown",
      "metadata": {
        "id": "ZyG18tKXo7Lj"
      },
      "source": [
        "### Type Conversions\n",
        "\n",
        "**Challenge**:\n",
        "* Convert the `birth_date` column to Pandas `Datetime` objects\n",
        "* Add a Column called `share_pct` which has the laureates' share as a percentage in the form of a floating-point number."
      ]
    },
    {
      "cell_type": "markdown",
      "metadata": {
        "id": "tTTFo-CXo7Lk"
      },
      "source": [
        "#### Convert Year and Birth Date to Datetime"
      ]
    },
    {
      "cell_type": "code",
      "metadata": {
        "id": "Jas4fWv4Fa4_"
      },
      "source": [
        "df_data['birth_date'] = pd.to_datetime(df_data['birth_date'])"
      ],
      "execution_count": 17,
      "outputs": []
    },
    {
      "cell_type": "markdown",
      "metadata": {
        "id": "i456Gr0io7Lm"
      },
      "source": [
        "#### Add a Column with the Prize Share as a Percentage"
      ]
    },
    {
      "cell_type": "code",
      "metadata": {
        "id": "4BNug19-FdHP"
      },
      "source": [
        "df_data['share_pct'] = df_data['prize_share'].apply(eval) * 100"
      ],
      "execution_count": 22,
      "outputs": []
    },
    {
      "cell_type": "markdown",
      "metadata": {
        "id": "-x571TLao7Lq"
      },
      "source": [
        "# Plotly Donut Chart: Percentage of Male vs. Female Laureates"
      ]
    },
    {
      "cell_type": "markdown",
      "metadata": {
        "id": "Q5jBv1lUo7Lq"
      },
      "source": [
        "**Challenge**: Create a [donut chart using plotly](https://plotly.com/python/pie-charts/) which shows how many prizes went to men compared to how many prizes went to women. What percentage of all the prizes went to women?"
      ]
    },
    {
      "cell_type": "code",
      "metadata": {
        "id": "wxTmkQd-Ff3Q",
        "colab": {
          "base_uri": "https://localhost:8080/",
          "height": 597
        },
        "outputId": "50655edf-bd2f-4a38-c47d-44951c209b88"
      },
      "source": [
        "biology = df_data.sex.value_counts()\n",
        "fig = px.pie(labels=biology.index,\n",
        "             values=biology.values,\n",
        "             title=\"Percentage of Male vs. Female Winners\",\n",
        "             names=biology.index,\n",
        "             hole=0.4,)\n",
        "\n",
        "fig.update_traces(textposition='inside', textfont_size=15, textinfo='percent')\n",
        "\n",
        "fig.show()"
      ],
      "execution_count": 24,
      "outputs": [
        {
          "output_type": "stream",
          "name": "stderr",
          "text": [
            "/usr/local/lib/python3.10/dist-packages/plotly/express/_core.py:140: FutureWarning: Support for multi-dimensional indexing (e.g. `obj[:, None]`) is deprecated and will be removed in a future version.  Convert to a numpy array before indexing instead.\n",
            "  return args[\"labels\"][column]\n"
          ]
        },
        {
          "output_type": "display_data",
          "data": {
            "text/html": [
              "<html>\n",
              "<head><meta charset=\"utf-8\" /></head>\n",
              "<body>\n",
              "    <div>            <script src=\"https://cdnjs.cloudflare.com/ajax/libs/mathjax/2.7.5/MathJax.js?config=TeX-AMS-MML_SVG\"></script><script type=\"text/javascript\">if (window.MathJax && window.MathJax.Hub && window.MathJax.Hub.Config) {window.MathJax.Hub.Config({SVG: {font: \"STIX-Web\"}});}</script>                <script type=\"text/javascript\">window.PlotlyConfig = {MathJaxConfig: 'local'};</script>\n",
              "        <script charset=\"utf-8\" src=\"https://cdn.plot.ly/plotly-2.29.1.min.js\"></script>                <div id=\"5c010500-62fc-423a-965e-1b9c5ec42282\" class=\"plotly-graph-div\" style=\"height:525px; width:100%;\"></div>            <script type=\"text/javascript\">                                    window.PLOTLYENV=window.PLOTLYENV || {};                                    if (document.getElementById(\"5c010500-62fc-423a-965e-1b9c5ec42282\")) {                    Plotly.newPlot(                        \"5c010500-62fc-423a-965e-1b9c5ec42282\",                        [{\"domain\":{\"x\":[0.0,1.0],\"y\":[0.0,1.0]},\"hole\":0.4,\"hovertemplate\":\"label=%{label}\\u003cbr\\u003evalue=%{value}\\u003cextra\\u003e\\u003c\\u002fextra\\u003e\",\"labels\":[\"Male\",\"Female\"],\"legendgroup\":\"\",\"name\":\"\",\"showlegend\":true,\"values\":[876,58],\"type\":\"pie\",\"textfont\":{\"size\":15},\"textinfo\":\"percent\",\"textposition\":\"inside\"}],                        {\"template\":{\"data\":{\"histogram2dcontour\":[{\"type\":\"histogram2dcontour\",\"colorbar\":{\"outlinewidth\":0,\"ticks\":\"\"},\"colorscale\":[[0.0,\"#0d0887\"],[0.1111111111111111,\"#46039f\"],[0.2222222222222222,\"#7201a8\"],[0.3333333333333333,\"#9c179e\"],[0.4444444444444444,\"#bd3786\"],[0.5555555555555556,\"#d8576b\"],[0.6666666666666666,\"#ed7953\"],[0.7777777777777778,\"#fb9f3a\"],[0.8888888888888888,\"#fdca26\"],[1.0,\"#f0f921\"]]}],\"choropleth\":[{\"type\":\"choropleth\",\"colorbar\":{\"outlinewidth\":0,\"ticks\":\"\"}}],\"histogram2d\":[{\"type\":\"histogram2d\",\"colorbar\":{\"outlinewidth\":0,\"ticks\":\"\"},\"colorscale\":[[0.0,\"#0d0887\"],[0.1111111111111111,\"#46039f\"],[0.2222222222222222,\"#7201a8\"],[0.3333333333333333,\"#9c179e\"],[0.4444444444444444,\"#bd3786\"],[0.5555555555555556,\"#d8576b\"],[0.6666666666666666,\"#ed7953\"],[0.7777777777777778,\"#fb9f3a\"],[0.8888888888888888,\"#fdca26\"],[1.0,\"#f0f921\"]]}],\"heatmap\":[{\"type\":\"heatmap\",\"colorbar\":{\"outlinewidth\":0,\"ticks\":\"\"},\"colorscale\":[[0.0,\"#0d0887\"],[0.1111111111111111,\"#46039f\"],[0.2222222222222222,\"#7201a8\"],[0.3333333333333333,\"#9c179e\"],[0.4444444444444444,\"#bd3786\"],[0.5555555555555556,\"#d8576b\"],[0.6666666666666666,\"#ed7953\"],[0.7777777777777778,\"#fb9f3a\"],[0.8888888888888888,\"#fdca26\"],[1.0,\"#f0f921\"]]}],\"heatmapgl\":[{\"type\":\"heatmapgl\",\"colorbar\":{\"outlinewidth\":0,\"ticks\":\"\"},\"colorscale\":[[0.0,\"#0d0887\"],[0.1111111111111111,\"#46039f\"],[0.2222222222222222,\"#7201a8\"],[0.3333333333333333,\"#9c179e\"],[0.4444444444444444,\"#bd3786\"],[0.5555555555555556,\"#d8576b\"],[0.6666666666666666,\"#ed7953\"],[0.7777777777777778,\"#fb9f3a\"],[0.8888888888888888,\"#fdca26\"],[1.0,\"#f0f921\"]]}],\"contourcarpet\":[{\"type\":\"contourcarpet\",\"colorbar\":{\"outlinewidth\":0,\"ticks\":\"\"}}],\"contour\":[{\"type\":\"contour\",\"colorbar\":{\"outlinewidth\":0,\"ticks\":\"\"},\"colorscale\":[[0.0,\"#0d0887\"],[0.1111111111111111,\"#46039f\"],[0.2222222222222222,\"#7201a8\"],[0.3333333333333333,\"#9c179e\"],[0.4444444444444444,\"#bd3786\"],[0.5555555555555556,\"#d8576b\"],[0.6666666666666666,\"#ed7953\"],[0.7777777777777778,\"#fb9f3a\"],[0.8888888888888888,\"#fdca26\"],[1.0,\"#f0f921\"]]}],\"surface\":[{\"type\":\"surface\",\"colorbar\":{\"outlinewidth\":0,\"ticks\":\"\"},\"colorscale\":[[0.0,\"#0d0887\"],[0.1111111111111111,\"#46039f\"],[0.2222222222222222,\"#7201a8\"],[0.3333333333333333,\"#9c179e\"],[0.4444444444444444,\"#bd3786\"],[0.5555555555555556,\"#d8576b\"],[0.6666666666666666,\"#ed7953\"],[0.7777777777777778,\"#fb9f3a\"],[0.8888888888888888,\"#fdca26\"],[1.0,\"#f0f921\"]]}],\"mesh3d\":[{\"type\":\"mesh3d\",\"colorbar\":{\"outlinewidth\":0,\"ticks\":\"\"}}],\"scatter\":[{\"fillpattern\":{\"fillmode\":\"overlay\",\"size\":10,\"solidity\":0.2},\"type\":\"scatter\"}],\"parcoords\":[{\"type\":\"parcoords\",\"line\":{\"colorbar\":{\"outlinewidth\":0,\"ticks\":\"\"}}}],\"scatterpolargl\":[{\"type\":\"scatterpolargl\",\"marker\":{\"colorbar\":{\"outlinewidth\":0,\"ticks\":\"\"}}}],\"bar\":[{\"error_x\":{\"color\":\"#2a3f5f\"},\"error_y\":{\"color\":\"#2a3f5f\"},\"marker\":{\"line\":{\"color\":\"#E5ECF6\",\"width\":0.5},\"pattern\":{\"fillmode\":\"overlay\",\"size\":10,\"solidity\":0.2}},\"type\":\"bar\"}],\"scattergeo\":[{\"type\":\"scattergeo\",\"marker\":{\"colorbar\":{\"outlinewidth\":0,\"ticks\":\"\"}}}],\"scatterpolar\":[{\"type\":\"scatterpolar\",\"marker\":{\"colorbar\":{\"outlinewidth\":0,\"ticks\":\"\"}}}],\"histogram\":[{\"marker\":{\"pattern\":{\"fillmode\":\"overlay\",\"size\":10,\"solidity\":0.2}},\"type\":\"histogram\"}],\"scattergl\":[{\"type\":\"scattergl\",\"marker\":{\"colorbar\":{\"outlinewidth\":0,\"ticks\":\"\"}}}],\"scatter3d\":[{\"type\":\"scatter3d\",\"line\":{\"colorbar\":{\"outlinewidth\":0,\"ticks\":\"\"}},\"marker\":{\"colorbar\":{\"outlinewidth\":0,\"ticks\":\"\"}}}],\"scattermapbox\":[{\"type\":\"scattermapbox\",\"marker\":{\"colorbar\":{\"outlinewidth\":0,\"ticks\":\"\"}}}],\"scatterternary\":[{\"type\":\"scatterternary\",\"marker\":{\"colorbar\":{\"outlinewidth\":0,\"ticks\":\"\"}}}],\"scattercarpet\":[{\"type\":\"scattercarpet\",\"marker\":{\"colorbar\":{\"outlinewidth\":0,\"ticks\":\"\"}}}],\"carpet\":[{\"aaxis\":{\"endlinecolor\":\"#2a3f5f\",\"gridcolor\":\"white\",\"linecolor\":\"white\",\"minorgridcolor\":\"white\",\"startlinecolor\":\"#2a3f5f\"},\"baxis\":{\"endlinecolor\":\"#2a3f5f\",\"gridcolor\":\"white\",\"linecolor\":\"white\",\"minorgridcolor\":\"white\",\"startlinecolor\":\"#2a3f5f\"},\"type\":\"carpet\"}],\"table\":[{\"cells\":{\"fill\":{\"color\":\"#EBF0F8\"},\"line\":{\"color\":\"white\"}},\"header\":{\"fill\":{\"color\":\"#C8D4E3\"},\"line\":{\"color\":\"white\"}},\"type\":\"table\"}],\"barpolar\":[{\"marker\":{\"line\":{\"color\":\"#E5ECF6\",\"width\":0.5},\"pattern\":{\"fillmode\":\"overlay\",\"size\":10,\"solidity\":0.2}},\"type\":\"barpolar\"}],\"pie\":[{\"automargin\":true,\"type\":\"pie\"}]},\"layout\":{\"autotypenumbers\":\"strict\",\"colorway\":[\"#636efa\",\"#EF553B\",\"#00cc96\",\"#ab63fa\",\"#FFA15A\",\"#19d3f3\",\"#FF6692\",\"#B6E880\",\"#FF97FF\",\"#FECB52\"],\"font\":{\"color\":\"#2a3f5f\"},\"hovermode\":\"closest\",\"hoverlabel\":{\"align\":\"left\"},\"paper_bgcolor\":\"white\",\"plot_bgcolor\":\"#E5ECF6\",\"polar\":{\"bgcolor\":\"#E5ECF6\",\"angularaxis\":{\"gridcolor\":\"white\",\"linecolor\":\"white\",\"ticks\":\"\"},\"radialaxis\":{\"gridcolor\":\"white\",\"linecolor\":\"white\",\"ticks\":\"\"}},\"ternary\":{\"bgcolor\":\"#E5ECF6\",\"aaxis\":{\"gridcolor\":\"white\",\"linecolor\":\"white\",\"ticks\":\"\"},\"baxis\":{\"gridcolor\":\"white\",\"linecolor\":\"white\",\"ticks\":\"\"},\"caxis\":{\"gridcolor\":\"white\",\"linecolor\":\"white\",\"ticks\":\"\"}},\"coloraxis\":{\"colorbar\":{\"outlinewidth\":0,\"ticks\":\"\"}},\"colorscale\":{\"sequential\":[[0.0,\"#0d0887\"],[0.1111111111111111,\"#46039f\"],[0.2222222222222222,\"#7201a8\"],[0.3333333333333333,\"#9c179e\"],[0.4444444444444444,\"#bd3786\"],[0.5555555555555556,\"#d8576b\"],[0.6666666666666666,\"#ed7953\"],[0.7777777777777778,\"#fb9f3a\"],[0.8888888888888888,\"#fdca26\"],[1.0,\"#f0f921\"]],\"sequentialminus\":[[0.0,\"#0d0887\"],[0.1111111111111111,\"#46039f\"],[0.2222222222222222,\"#7201a8\"],[0.3333333333333333,\"#9c179e\"],[0.4444444444444444,\"#bd3786\"],[0.5555555555555556,\"#d8576b\"],[0.6666666666666666,\"#ed7953\"],[0.7777777777777778,\"#fb9f3a\"],[0.8888888888888888,\"#fdca26\"],[1.0,\"#f0f921\"]],\"diverging\":[[0,\"#8e0152\"],[0.1,\"#c51b7d\"],[0.2,\"#de77ae\"],[0.3,\"#f1b6da\"],[0.4,\"#fde0ef\"],[0.5,\"#f7f7f7\"],[0.6,\"#e6f5d0\"],[0.7,\"#b8e186\"],[0.8,\"#7fbc41\"],[0.9,\"#4d9221\"],[1,\"#276419\"]]},\"xaxis\":{\"gridcolor\":\"white\",\"linecolor\":\"white\",\"ticks\":\"\",\"title\":{\"standoff\":15},\"zerolinecolor\":\"white\",\"automargin\":true,\"zerolinewidth\":2},\"yaxis\":{\"gridcolor\":\"white\",\"linecolor\":\"white\",\"ticks\":\"\",\"title\":{\"standoff\":15},\"zerolinecolor\":\"white\",\"automargin\":true,\"zerolinewidth\":2},\"scene\":{\"xaxis\":{\"backgroundcolor\":\"#E5ECF6\",\"gridcolor\":\"white\",\"linecolor\":\"white\",\"showbackground\":true,\"ticks\":\"\",\"zerolinecolor\":\"white\",\"gridwidth\":2},\"yaxis\":{\"backgroundcolor\":\"#E5ECF6\",\"gridcolor\":\"white\",\"linecolor\":\"white\",\"showbackground\":true,\"ticks\":\"\",\"zerolinecolor\":\"white\",\"gridwidth\":2},\"zaxis\":{\"backgroundcolor\":\"#E5ECF6\",\"gridcolor\":\"white\",\"linecolor\":\"white\",\"showbackground\":true,\"ticks\":\"\",\"zerolinecolor\":\"white\",\"gridwidth\":2}},\"shapedefaults\":{\"line\":{\"color\":\"#2a3f5f\"}},\"annotationdefaults\":{\"arrowcolor\":\"#2a3f5f\",\"arrowhead\":0,\"arrowwidth\":1},\"geo\":{\"bgcolor\":\"white\",\"landcolor\":\"#E5ECF6\",\"subunitcolor\":\"white\",\"showland\":true,\"showlakes\":true,\"lakecolor\":\"white\"},\"title\":{\"x\":0.05},\"mapbox\":{\"style\":\"light\"}}},\"legend\":{\"tracegroupgap\":0},\"title\":{\"text\":\"Percentage of Male vs. Female Winners\"}},                        {\"responsive\": true}                    ).then(function(){\n",
              "                            \n",
              "var gd = document.getElementById('5c010500-62fc-423a-965e-1b9c5ec42282');\n",
              "var x = new MutationObserver(function (mutations, observer) {{\n",
              "        var display = window.getComputedStyle(gd).display;\n",
              "        if (!display || display === 'none') {{\n",
              "            console.log([gd, 'removed!']);\n",
              "            Plotly.purge(gd);\n",
              "            observer.disconnect();\n",
              "        }}\n",
              "}});\n",
              "\n",
              "// Listen for the removal of the full notebook cells\n",
              "var notebookContainer = gd.closest('#notebook-container');\n",
              "if (notebookContainer) {{\n",
              "    x.observe(notebookContainer, {childList: true});\n",
              "}}\n",
              "\n",
              "// Listen for the clearing of the current output cell\n",
              "var outputEl = gd.closest('.output');\n",
              "if (outputEl) {{\n",
              "    x.observe(outputEl, {childList: true});\n",
              "}}\n",
              "\n",
              "                        })                };                            </script>        </div>\n",
              "</body>\n",
              "</html>"
            ]
          },
          "metadata": {}
        }
      ]
    },
    {
      "cell_type": "markdown",
      "metadata": {
        "dc": {
          "key": "38"
        },
        "run_control": {
          "frozen": true
        },
        "tags": [
          "context"
        ],
        "id": "dmdB0tCko7Lu"
      },
      "source": [
        "# Who were the first 3 Women to Win the Nobel Prize?\n",
        "\n",
        "**Challenge**:\n",
        "* What are the names of the first 3 female Nobel laureates?\n",
        "* What did the win the prize for?\n",
        "* What do you see in their `birth_country`? Were they part of an organisation?"
      ]
    },
    {
      "cell_type": "code",
      "metadata": {
        "id": "nk5h-XFcFiJp",
        "colab": {
          "base_uri": "https://localhost:8080/",
          "height": 372
        },
        "outputId": "92c56a2b-bcaa-440c-b72f-22194d45b4b2"
      },
      "source": [
        "df_data[df_data['sex'] == 'Female'].sort_values('year').head(3)"
      ],
      "execution_count": 26,
      "outputs": [
        {
          "output_type": "execute_result",
          "data": {
            "text/plain": [
              "    year    category                               prize  \\\n",
              "18  1903     Physics     The Nobel Prize in Physics 1903   \n",
              "29  1905       Peace          The Nobel Peace Prize 1905   \n",
              "51  1909  Literature  The Nobel Prize in Literature 1909   \n",
              "\n",
              "                                           motivation prize_share  \\\n",
              "18  \"in recognition of the extraordinary services ...         1/4   \n",
              "29                                                NaN         1/1   \n",
              "51  \"in appreciation of the lofty idealism, vivid ...         1/1   \n",
              "\n",
              "   laureate_type                                          full_name  \\\n",
              "18    Individual                        Marie Curie, née Sklodowska   \n",
              "29    Individual  Baroness Bertha Sophie Felicita von Suttner, n...   \n",
              "51    Individual                      Selma Ottilia Lovisa Lagerlöf   \n",
              "\n",
              "   birth_date birth_city                     birth_country  \\\n",
              "18 1867-11-07     Warsaw           Russian Empire (Poland)   \n",
              "29 1843-06-09     Prague  Austrian Empire (Czech Republic)   \n",
              "51 1858-11-20   Mårbacka                            Sweden   \n",
              "\n",
              "   birth_country_current     sex organization_name organization_city  \\\n",
              "18                Poland  Female               NaN               NaN   \n",
              "29        Czech Republic  Female               NaN               NaN   \n",
              "51                Sweden  Female               NaN               NaN   \n",
              "\n",
              "   organization_country  ISO  share_pct  \n",
              "18                  NaN  POL      25.00  \n",
              "29                  NaN  CZE     100.00  \n",
              "51                  NaN  SWE     100.00  "
            ],
            "text/html": [
              "\n",
              "  <div id=\"df-50f74ea3-939b-4867-be94-a26a2fc7ab80\" class=\"colab-df-container\">\n",
              "    <div>\n",
              "<style scoped>\n",
              "    .dataframe tbody tr th:only-of-type {\n",
              "        vertical-align: middle;\n",
              "    }\n",
              "\n",
              "    .dataframe tbody tr th {\n",
              "        vertical-align: top;\n",
              "    }\n",
              "\n",
              "    .dataframe thead th {\n",
              "        text-align: right;\n",
              "    }\n",
              "</style>\n",
              "<table border=\"1\" class=\"dataframe\">\n",
              "  <thead>\n",
              "    <tr style=\"text-align: right;\">\n",
              "      <th></th>\n",
              "      <th>year</th>\n",
              "      <th>category</th>\n",
              "      <th>prize</th>\n",
              "      <th>motivation</th>\n",
              "      <th>prize_share</th>\n",
              "      <th>laureate_type</th>\n",
              "      <th>full_name</th>\n",
              "      <th>birth_date</th>\n",
              "      <th>birth_city</th>\n",
              "      <th>birth_country</th>\n",
              "      <th>birth_country_current</th>\n",
              "      <th>sex</th>\n",
              "      <th>organization_name</th>\n",
              "      <th>organization_city</th>\n",
              "      <th>organization_country</th>\n",
              "      <th>ISO</th>\n",
              "      <th>share_pct</th>\n",
              "    </tr>\n",
              "  </thead>\n",
              "  <tbody>\n",
              "    <tr>\n",
              "      <th>18</th>\n",
              "      <td>1903</td>\n",
              "      <td>Physics</td>\n",
              "      <td>The Nobel Prize in Physics 1903</td>\n",
              "      <td>\"in recognition of the extraordinary services ...</td>\n",
              "      <td>1/4</td>\n",
              "      <td>Individual</td>\n",
              "      <td>Marie Curie, née Sklodowska</td>\n",
              "      <td>1867-11-07</td>\n",
              "      <td>Warsaw</td>\n",
              "      <td>Russian Empire (Poland)</td>\n",
              "      <td>Poland</td>\n",
              "      <td>Female</td>\n",
              "      <td>NaN</td>\n",
              "      <td>NaN</td>\n",
              "      <td>NaN</td>\n",
              "      <td>POL</td>\n",
              "      <td>25.00</td>\n",
              "    </tr>\n",
              "    <tr>\n",
              "      <th>29</th>\n",
              "      <td>1905</td>\n",
              "      <td>Peace</td>\n",
              "      <td>The Nobel Peace Prize 1905</td>\n",
              "      <td>NaN</td>\n",
              "      <td>1/1</td>\n",
              "      <td>Individual</td>\n",
              "      <td>Baroness Bertha Sophie Felicita von Suttner, n...</td>\n",
              "      <td>1843-06-09</td>\n",
              "      <td>Prague</td>\n",
              "      <td>Austrian Empire (Czech Republic)</td>\n",
              "      <td>Czech Republic</td>\n",
              "      <td>Female</td>\n",
              "      <td>NaN</td>\n",
              "      <td>NaN</td>\n",
              "      <td>NaN</td>\n",
              "      <td>CZE</td>\n",
              "      <td>100.00</td>\n",
              "    </tr>\n",
              "    <tr>\n",
              "      <th>51</th>\n",
              "      <td>1909</td>\n",
              "      <td>Literature</td>\n",
              "      <td>The Nobel Prize in Literature 1909</td>\n",
              "      <td>\"in appreciation of the lofty idealism, vivid ...</td>\n",
              "      <td>1/1</td>\n",
              "      <td>Individual</td>\n",
              "      <td>Selma Ottilia Lovisa Lagerlöf</td>\n",
              "      <td>1858-11-20</td>\n",
              "      <td>Mårbacka</td>\n",
              "      <td>Sweden</td>\n",
              "      <td>Sweden</td>\n",
              "      <td>Female</td>\n",
              "      <td>NaN</td>\n",
              "      <td>NaN</td>\n",
              "      <td>NaN</td>\n",
              "      <td>SWE</td>\n",
              "      <td>100.00</td>\n",
              "    </tr>\n",
              "  </tbody>\n",
              "</table>\n",
              "</div>\n",
              "    <div class=\"colab-df-buttons\">\n",
              "\n",
              "  <div class=\"colab-df-container\">\n",
              "    <button class=\"colab-df-convert\" onclick=\"convertToInteractive('df-50f74ea3-939b-4867-be94-a26a2fc7ab80')\"\n",
              "            title=\"Convert this dataframe to an interactive table.\"\n",
              "            style=\"display:none;\">\n",
              "\n",
              "  <svg xmlns=\"http://www.w3.org/2000/svg\" height=\"24px\" viewBox=\"0 -960 960 960\">\n",
              "    <path d=\"M120-120v-720h720v720H120Zm60-500h600v-160H180v160Zm220 220h160v-160H400v160Zm0 220h160v-160H400v160ZM180-400h160v-160H180v160Zm440 0h160v-160H620v160ZM180-180h160v-160H180v160Zm440 0h160v-160H620v160Z\"/>\n",
              "  </svg>\n",
              "    </button>\n",
              "\n",
              "  <style>\n",
              "    .colab-df-container {\n",
              "      display:flex;\n",
              "      gap: 12px;\n",
              "    }\n",
              "\n",
              "    .colab-df-convert {\n",
              "      background-color: #E8F0FE;\n",
              "      border: none;\n",
              "      border-radius: 50%;\n",
              "      cursor: pointer;\n",
              "      display: none;\n",
              "      fill: #1967D2;\n",
              "      height: 32px;\n",
              "      padding: 0 0 0 0;\n",
              "      width: 32px;\n",
              "    }\n",
              "\n",
              "    .colab-df-convert:hover {\n",
              "      background-color: #E2EBFA;\n",
              "      box-shadow: 0px 1px 2px rgba(60, 64, 67, 0.3), 0px 1px 3px 1px rgba(60, 64, 67, 0.15);\n",
              "      fill: #174EA6;\n",
              "    }\n",
              "\n",
              "    .colab-df-buttons div {\n",
              "      margin-bottom: 4px;\n",
              "    }\n",
              "\n",
              "    [theme=dark] .colab-df-convert {\n",
              "      background-color: #3B4455;\n",
              "      fill: #D2E3FC;\n",
              "    }\n",
              "\n",
              "    [theme=dark] .colab-df-convert:hover {\n",
              "      background-color: #434B5C;\n",
              "      box-shadow: 0px 1px 3px 1px rgba(0, 0, 0, 0.15);\n",
              "      filter: drop-shadow(0px 1px 2px rgba(0, 0, 0, 0.3));\n",
              "      fill: #FFFFFF;\n",
              "    }\n",
              "  </style>\n",
              "\n",
              "    <script>\n",
              "      const buttonEl =\n",
              "        document.querySelector('#df-50f74ea3-939b-4867-be94-a26a2fc7ab80 button.colab-df-convert');\n",
              "      buttonEl.style.display =\n",
              "        google.colab.kernel.accessAllowed ? 'block' : 'none';\n",
              "\n",
              "      async function convertToInteractive(key) {\n",
              "        const element = document.querySelector('#df-50f74ea3-939b-4867-be94-a26a2fc7ab80');\n",
              "        const dataTable =\n",
              "          await google.colab.kernel.invokeFunction('convertToInteractive',\n",
              "                                                    [key], {});\n",
              "        if (!dataTable) return;\n",
              "\n",
              "        const docLinkHtml = 'Like what you see? Visit the ' +\n",
              "          '<a target=\"_blank\" href=https://colab.research.google.com/notebooks/data_table.ipynb>data table notebook</a>'\n",
              "          + ' to learn more about interactive tables.';\n",
              "        element.innerHTML = '';\n",
              "        dataTable['output_type'] = 'display_data';\n",
              "        await google.colab.output.renderOutput(dataTable, element);\n",
              "        const docLink = document.createElement('div');\n",
              "        docLink.innerHTML = docLinkHtml;\n",
              "        element.appendChild(docLink);\n",
              "      }\n",
              "    </script>\n",
              "  </div>\n",
              "\n",
              "\n",
              "<div id=\"df-535e5478-8523-4bf3-9aea-1adcf40109cc\">\n",
              "  <button class=\"colab-df-quickchart\" onclick=\"quickchart('df-535e5478-8523-4bf3-9aea-1adcf40109cc')\"\n",
              "            title=\"Suggest charts\"\n",
              "            style=\"display:none;\">\n",
              "\n",
              "<svg xmlns=\"http://www.w3.org/2000/svg\" height=\"24px\"viewBox=\"0 0 24 24\"\n",
              "     width=\"24px\">\n",
              "    <g>\n",
              "        <path d=\"M19 3H5c-1.1 0-2 .9-2 2v14c0 1.1.9 2 2 2h14c1.1 0 2-.9 2-2V5c0-1.1-.9-2-2-2zM9 17H7v-7h2v7zm4 0h-2V7h2v10zm4 0h-2v-4h2v4z\"/>\n",
              "    </g>\n",
              "</svg>\n",
              "  </button>\n",
              "\n",
              "<style>\n",
              "  .colab-df-quickchart {\n",
              "      --bg-color: #E8F0FE;\n",
              "      --fill-color: #1967D2;\n",
              "      --hover-bg-color: #E2EBFA;\n",
              "      --hover-fill-color: #174EA6;\n",
              "      --disabled-fill-color: #AAA;\n",
              "      --disabled-bg-color: #DDD;\n",
              "  }\n",
              "\n",
              "  [theme=dark] .colab-df-quickchart {\n",
              "      --bg-color: #3B4455;\n",
              "      --fill-color: #D2E3FC;\n",
              "      --hover-bg-color: #434B5C;\n",
              "      --hover-fill-color: #FFFFFF;\n",
              "      --disabled-bg-color: #3B4455;\n",
              "      --disabled-fill-color: #666;\n",
              "  }\n",
              "\n",
              "  .colab-df-quickchart {\n",
              "    background-color: var(--bg-color);\n",
              "    border: none;\n",
              "    border-radius: 50%;\n",
              "    cursor: pointer;\n",
              "    display: none;\n",
              "    fill: var(--fill-color);\n",
              "    height: 32px;\n",
              "    padding: 0;\n",
              "    width: 32px;\n",
              "  }\n",
              "\n",
              "  .colab-df-quickchart:hover {\n",
              "    background-color: var(--hover-bg-color);\n",
              "    box-shadow: 0 1px 2px rgba(60, 64, 67, 0.3), 0 1px 3px 1px rgba(60, 64, 67, 0.15);\n",
              "    fill: var(--button-hover-fill-color);\n",
              "  }\n",
              "\n",
              "  .colab-df-quickchart-complete:disabled,\n",
              "  .colab-df-quickchart-complete:disabled:hover {\n",
              "    background-color: var(--disabled-bg-color);\n",
              "    fill: var(--disabled-fill-color);\n",
              "    box-shadow: none;\n",
              "  }\n",
              "\n",
              "  .colab-df-spinner {\n",
              "    border: 2px solid var(--fill-color);\n",
              "    border-color: transparent;\n",
              "    border-bottom-color: var(--fill-color);\n",
              "    animation:\n",
              "      spin 1s steps(1) infinite;\n",
              "  }\n",
              "\n",
              "  @keyframes spin {\n",
              "    0% {\n",
              "      border-color: transparent;\n",
              "      border-bottom-color: var(--fill-color);\n",
              "      border-left-color: var(--fill-color);\n",
              "    }\n",
              "    20% {\n",
              "      border-color: transparent;\n",
              "      border-left-color: var(--fill-color);\n",
              "      border-top-color: var(--fill-color);\n",
              "    }\n",
              "    30% {\n",
              "      border-color: transparent;\n",
              "      border-left-color: var(--fill-color);\n",
              "      border-top-color: var(--fill-color);\n",
              "      border-right-color: var(--fill-color);\n",
              "    }\n",
              "    40% {\n",
              "      border-color: transparent;\n",
              "      border-right-color: var(--fill-color);\n",
              "      border-top-color: var(--fill-color);\n",
              "    }\n",
              "    60% {\n",
              "      border-color: transparent;\n",
              "      border-right-color: var(--fill-color);\n",
              "    }\n",
              "    80% {\n",
              "      border-color: transparent;\n",
              "      border-right-color: var(--fill-color);\n",
              "      border-bottom-color: var(--fill-color);\n",
              "    }\n",
              "    90% {\n",
              "      border-color: transparent;\n",
              "      border-bottom-color: var(--fill-color);\n",
              "    }\n",
              "  }\n",
              "</style>\n",
              "\n",
              "  <script>\n",
              "    async function quickchart(key) {\n",
              "      const quickchartButtonEl =\n",
              "        document.querySelector('#' + key + ' button');\n",
              "      quickchartButtonEl.disabled = true;  // To prevent multiple clicks.\n",
              "      quickchartButtonEl.classList.add('colab-df-spinner');\n",
              "      try {\n",
              "        const charts = await google.colab.kernel.invokeFunction(\n",
              "            'suggestCharts', [key], {});\n",
              "      } catch (error) {\n",
              "        console.error('Error during call to suggestCharts:', error);\n",
              "      }\n",
              "      quickchartButtonEl.classList.remove('colab-df-spinner');\n",
              "      quickchartButtonEl.classList.add('colab-df-quickchart-complete');\n",
              "    }\n",
              "    (() => {\n",
              "      let quickchartButtonEl =\n",
              "        document.querySelector('#df-535e5478-8523-4bf3-9aea-1adcf40109cc button');\n",
              "      quickchartButtonEl.style.display =\n",
              "        google.colab.kernel.accessAllowed ? 'block' : 'none';\n",
              "    })();\n",
              "  </script>\n",
              "</div>\n",
              "    </div>\n",
              "  </div>\n"
            ],
            "application/vnd.google.colaboratory.intrinsic+json": {
              "type": "dataframe",
              "repr_error": "'str' object has no attribute 'empty'"
            }
          },
          "metadata": {},
          "execution_count": 26
        }
      ]
    },
    {
      "cell_type": "markdown",
      "metadata": {
        "id": "dPVD_f1oo7Lw"
      },
      "source": [
        "# Find the Repeat Winners\n",
        "\n",
        "**Challenge**: Did some people get a Nobel Prize more than once? If so, who were they?"
      ]
    },
    {
      "cell_type": "code",
      "metadata": {
        "id": "Qqf8_dWUFjpz"
      },
      "source": [
        "x = df_data['full_name'].value_counts() > 1\n",
        "mt1 = x[x].index"
      ],
      "execution_count": 33,
      "outputs": []
    },
    {
      "cell_type": "code",
      "metadata": {
        "id": "UuIqCxQvFjdF",
        "colab": {
          "base_uri": "https://localhost:8080/",
          "height": 457
        },
        "outputId": "bc2612eb-c5bc-4ed5-e7e1-d0a30229eb91"
      },
      "source": [
        "col_subset = ['year', 'category', 'laureate_type', 'full_name']\n",
        "df_data[df_data['full_name'].isin(mt1)][col_subset]"
      ],
      "execution_count": 35,
      "outputs": [
        {
          "output_type": "execute_result",
          "data": {
            "text/plain": [
              "     year   category laureate_type  \\\n",
              "18   1903    Physics    Individual   \n",
              "62   1911  Chemistry    Individual   \n",
              "89   1917      Peace  Organization   \n",
              "215  1944      Peace  Organization   \n",
              "278  1954  Chemistry    Individual   \n",
              "283  1954      Peace  Organization   \n",
              "297  1956    Physics    Individual   \n",
              "306  1958  Chemistry    Individual   \n",
              "340  1962      Peace    Individual   \n",
              "348  1963      Peace  Organization   \n",
              "424  1972    Physics    Individual   \n",
              "505  1980  Chemistry    Individual   \n",
              "523  1981      Peace  Organization   \n",
              "\n",
              "                                             full_name  \n",
              "18                         Marie Curie, née Sklodowska  \n",
              "62                         Marie Curie, née Sklodowska  \n",
              "89   Comité international de la Croix Rouge (Intern...  \n",
              "215  Comité international de la Croix Rouge (Intern...  \n",
              "278                                 Linus Carl Pauling  \n",
              "283  Office of the United Nations High Commissioner...  \n",
              "297                                       John Bardeen  \n",
              "306                                   Frederick Sanger  \n",
              "340                                 Linus Carl Pauling  \n",
              "348  Comité international de la Croix Rouge (Intern...  \n",
              "424                                       John Bardeen  \n",
              "505                                   Frederick Sanger  \n",
              "523  Office of the United Nations High Commissioner...  "
            ],
            "text/html": [
              "\n",
              "  <div id=\"df-4ac6658d-d828-4352-b9d5-35d105949cc2\" class=\"colab-df-container\">\n",
              "    <div>\n",
              "<style scoped>\n",
              "    .dataframe tbody tr th:only-of-type {\n",
              "        vertical-align: middle;\n",
              "    }\n",
              "\n",
              "    .dataframe tbody tr th {\n",
              "        vertical-align: top;\n",
              "    }\n",
              "\n",
              "    .dataframe thead th {\n",
              "        text-align: right;\n",
              "    }\n",
              "</style>\n",
              "<table border=\"1\" class=\"dataframe\">\n",
              "  <thead>\n",
              "    <tr style=\"text-align: right;\">\n",
              "      <th></th>\n",
              "      <th>year</th>\n",
              "      <th>category</th>\n",
              "      <th>laureate_type</th>\n",
              "      <th>full_name</th>\n",
              "    </tr>\n",
              "  </thead>\n",
              "  <tbody>\n",
              "    <tr>\n",
              "      <th>18</th>\n",
              "      <td>1903</td>\n",
              "      <td>Physics</td>\n",
              "      <td>Individual</td>\n",
              "      <td>Marie Curie, née Sklodowska</td>\n",
              "    </tr>\n",
              "    <tr>\n",
              "      <th>62</th>\n",
              "      <td>1911</td>\n",
              "      <td>Chemistry</td>\n",
              "      <td>Individual</td>\n",
              "      <td>Marie Curie, née Sklodowska</td>\n",
              "    </tr>\n",
              "    <tr>\n",
              "      <th>89</th>\n",
              "      <td>1917</td>\n",
              "      <td>Peace</td>\n",
              "      <td>Organization</td>\n",
              "      <td>Comité international de la Croix Rouge (Intern...</td>\n",
              "    </tr>\n",
              "    <tr>\n",
              "      <th>215</th>\n",
              "      <td>1944</td>\n",
              "      <td>Peace</td>\n",
              "      <td>Organization</td>\n",
              "      <td>Comité international de la Croix Rouge (Intern...</td>\n",
              "    </tr>\n",
              "    <tr>\n",
              "      <th>278</th>\n",
              "      <td>1954</td>\n",
              "      <td>Chemistry</td>\n",
              "      <td>Individual</td>\n",
              "      <td>Linus Carl Pauling</td>\n",
              "    </tr>\n",
              "    <tr>\n",
              "      <th>283</th>\n",
              "      <td>1954</td>\n",
              "      <td>Peace</td>\n",
              "      <td>Organization</td>\n",
              "      <td>Office of the United Nations High Commissioner...</td>\n",
              "    </tr>\n",
              "    <tr>\n",
              "      <th>297</th>\n",
              "      <td>1956</td>\n",
              "      <td>Physics</td>\n",
              "      <td>Individual</td>\n",
              "      <td>John Bardeen</td>\n",
              "    </tr>\n",
              "    <tr>\n",
              "      <th>306</th>\n",
              "      <td>1958</td>\n",
              "      <td>Chemistry</td>\n",
              "      <td>Individual</td>\n",
              "      <td>Frederick Sanger</td>\n",
              "    </tr>\n",
              "    <tr>\n",
              "      <th>340</th>\n",
              "      <td>1962</td>\n",
              "      <td>Peace</td>\n",
              "      <td>Individual</td>\n",
              "      <td>Linus Carl Pauling</td>\n",
              "    </tr>\n",
              "    <tr>\n",
              "      <th>348</th>\n",
              "      <td>1963</td>\n",
              "      <td>Peace</td>\n",
              "      <td>Organization</td>\n",
              "      <td>Comité international de la Croix Rouge (Intern...</td>\n",
              "    </tr>\n",
              "    <tr>\n",
              "      <th>424</th>\n",
              "      <td>1972</td>\n",
              "      <td>Physics</td>\n",
              "      <td>Individual</td>\n",
              "      <td>John Bardeen</td>\n",
              "    </tr>\n",
              "    <tr>\n",
              "      <th>505</th>\n",
              "      <td>1980</td>\n",
              "      <td>Chemistry</td>\n",
              "      <td>Individual</td>\n",
              "      <td>Frederick Sanger</td>\n",
              "    </tr>\n",
              "    <tr>\n",
              "      <th>523</th>\n",
              "      <td>1981</td>\n",
              "      <td>Peace</td>\n",
              "      <td>Organization</td>\n",
              "      <td>Office of the United Nations High Commissioner...</td>\n",
              "    </tr>\n",
              "  </tbody>\n",
              "</table>\n",
              "</div>\n",
              "    <div class=\"colab-df-buttons\">\n",
              "\n",
              "  <div class=\"colab-df-container\">\n",
              "    <button class=\"colab-df-convert\" onclick=\"convertToInteractive('df-4ac6658d-d828-4352-b9d5-35d105949cc2')\"\n",
              "            title=\"Convert this dataframe to an interactive table.\"\n",
              "            style=\"display:none;\">\n",
              "\n",
              "  <svg xmlns=\"http://www.w3.org/2000/svg\" height=\"24px\" viewBox=\"0 -960 960 960\">\n",
              "    <path d=\"M120-120v-720h720v720H120Zm60-500h600v-160H180v160Zm220 220h160v-160H400v160Zm0 220h160v-160H400v160ZM180-400h160v-160H180v160Zm440 0h160v-160H620v160ZM180-180h160v-160H180v160Zm440 0h160v-160H620v160Z\"/>\n",
              "  </svg>\n",
              "    </button>\n",
              "\n",
              "  <style>\n",
              "    .colab-df-container {\n",
              "      display:flex;\n",
              "      gap: 12px;\n",
              "    }\n",
              "\n",
              "    .colab-df-convert {\n",
              "      background-color: #E8F0FE;\n",
              "      border: none;\n",
              "      border-radius: 50%;\n",
              "      cursor: pointer;\n",
              "      display: none;\n",
              "      fill: #1967D2;\n",
              "      height: 32px;\n",
              "      padding: 0 0 0 0;\n",
              "      width: 32px;\n",
              "    }\n",
              "\n",
              "    .colab-df-convert:hover {\n",
              "      background-color: #E2EBFA;\n",
              "      box-shadow: 0px 1px 2px rgba(60, 64, 67, 0.3), 0px 1px 3px 1px rgba(60, 64, 67, 0.15);\n",
              "      fill: #174EA6;\n",
              "    }\n",
              "\n",
              "    .colab-df-buttons div {\n",
              "      margin-bottom: 4px;\n",
              "    }\n",
              "\n",
              "    [theme=dark] .colab-df-convert {\n",
              "      background-color: #3B4455;\n",
              "      fill: #D2E3FC;\n",
              "    }\n",
              "\n",
              "    [theme=dark] .colab-df-convert:hover {\n",
              "      background-color: #434B5C;\n",
              "      box-shadow: 0px 1px 3px 1px rgba(0, 0, 0, 0.15);\n",
              "      filter: drop-shadow(0px 1px 2px rgba(0, 0, 0, 0.3));\n",
              "      fill: #FFFFFF;\n",
              "    }\n",
              "  </style>\n",
              "\n",
              "    <script>\n",
              "      const buttonEl =\n",
              "        document.querySelector('#df-4ac6658d-d828-4352-b9d5-35d105949cc2 button.colab-df-convert');\n",
              "      buttonEl.style.display =\n",
              "        google.colab.kernel.accessAllowed ? 'block' : 'none';\n",
              "\n",
              "      async function convertToInteractive(key) {\n",
              "        const element = document.querySelector('#df-4ac6658d-d828-4352-b9d5-35d105949cc2');\n",
              "        const dataTable =\n",
              "          await google.colab.kernel.invokeFunction('convertToInteractive',\n",
              "                                                    [key], {});\n",
              "        if (!dataTable) return;\n",
              "\n",
              "        const docLinkHtml = 'Like what you see? Visit the ' +\n",
              "          '<a target=\"_blank\" href=https://colab.research.google.com/notebooks/data_table.ipynb>data table notebook</a>'\n",
              "          + ' to learn more about interactive tables.';\n",
              "        element.innerHTML = '';\n",
              "        dataTable['output_type'] = 'display_data';\n",
              "        await google.colab.output.renderOutput(dataTable, element);\n",
              "        const docLink = document.createElement('div');\n",
              "        docLink.innerHTML = docLinkHtml;\n",
              "        element.appendChild(docLink);\n",
              "      }\n",
              "    </script>\n",
              "  </div>\n",
              "\n",
              "\n",
              "<div id=\"df-e4fceda5-b23f-477f-a6ca-b04dc2d474cf\">\n",
              "  <button class=\"colab-df-quickchart\" onclick=\"quickchart('df-e4fceda5-b23f-477f-a6ca-b04dc2d474cf')\"\n",
              "            title=\"Suggest charts\"\n",
              "            style=\"display:none;\">\n",
              "\n",
              "<svg xmlns=\"http://www.w3.org/2000/svg\" height=\"24px\"viewBox=\"0 0 24 24\"\n",
              "     width=\"24px\">\n",
              "    <g>\n",
              "        <path d=\"M19 3H5c-1.1 0-2 .9-2 2v14c0 1.1.9 2 2 2h14c1.1 0 2-.9 2-2V5c0-1.1-.9-2-2-2zM9 17H7v-7h2v7zm4 0h-2V7h2v10zm4 0h-2v-4h2v4z\"/>\n",
              "    </g>\n",
              "</svg>\n",
              "  </button>\n",
              "\n",
              "<style>\n",
              "  .colab-df-quickchart {\n",
              "      --bg-color: #E8F0FE;\n",
              "      --fill-color: #1967D2;\n",
              "      --hover-bg-color: #E2EBFA;\n",
              "      --hover-fill-color: #174EA6;\n",
              "      --disabled-fill-color: #AAA;\n",
              "      --disabled-bg-color: #DDD;\n",
              "  }\n",
              "\n",
              "  [theme=dark] .colab-df-quickchart {\n",
              "      --bg-color: #3B4455;\n",
              "      --fill-color: #D2E3FC;\n",
              "      --hover-bg-color: #434B5C;\n",
              "      --hover-fill-color: #FFFFFF;\n",
              "      --disabled-bg-color: #3B4455;\n",
              "      --disabled-fill-color: #666;\n",
              "  }\n",
              "\n",
              "  .colab-df-quickchart {\n",
              "    background-color: var(--bg-color);\n",
              "    border: none;\n",
              "    border-radius: 50%;\n",
              "    cursor: pointer;\n",
              "    display: none;\n",
              "    fill: var(--fill-color);\n",
              "    height: 32px;\n",
              "    padding: 0;\n",
              "    width: 32px;\n",
              "  }\n",
              "\n",
              "  .colab-df-quickchart:hover {\n",
              "    background-color: var(--hover-bg-color);\n",
              "    box-shadow: 0 1px 2px rgba(60, 64, 67, 0.3), 0 1px 3px 1px rgba(60, 64, 67, 0.15);\n",
              "    fill: var(--button-hover-fill-color);\n",
              "  }\n",
              "\n",
              "  .colab-df-quickchart-complete:disabled,\n",
              "  .colab-df-quickchart-complete:disabled:hover {\n",
              "    background-color: var(--disabled-bg-color);\n",
              "    fill: var(--disabled-fill-color);\n",
              "    box-shadow: none;\n",
              "  }\n",
              "\n",
              "  .colab-df-spinner {\n",
              "    border: 2px solid var(--fill-color);\n",
              "    border-color: transparent;\n",
              "    border-bottom-color: var(--fill-color);\n",
              "    animation:\n",
              "      spin 1s steps(1) infinite;\n",
              "  }\n",
              "\n",
              "  @keyframes spin {\n",
              "    0% {\n",
              "      border-color: transparent;\n",
              "      border-bottom-color: var(--fill-color);\n",
              "      border-left-color: var(--fill-color);\n",
              "    }\n",
              "    20% {\n",
              "      border-color: transparent;\n",
              "      border-left-color: var(--fill-color);\n",
              "      border-top-color: var(--fill-color);\n",
              "    }\n",
              "    30% {\n",
              "      border-color: transparent;\n",
              "      border-left-color: var(--fill-color);\n",
              "      border-top-color: var(--fill-color);\n",
              "      border-right-color: var(--fill-color);\n",
              "    }\n",
              "    40% {\n",
              "      border-color: transparent;\n",
              "      border-right-color: var(--fill-color);\n",
              "      border-top-color: var(--fill-color);\n",
              "    }\n",
              "    60% {\n",
              "      border-color: transparent;\n",
              "      border-right-color: var(--fill-color);\n",
              "    }\n",
              "    80% {\n",
              "      border-color: transparent;\n",
              "      border-right-color: var(--fill-color);\n",
              "      border-bottom-color: var(--fill-color);\n",
              "    }\n",
              "    90% {\n",
              "      border-color: transparent;\n",
              "      border-bottom-color: var(--fill-color);\n",
              "    }\n",
              "  }\n",
              "</style>\n",
              "\n",
              "  <script>\n",
              "    async function quickchart(key) {\n",
              "      const quickchartButtonEl =\n",
              "        document.querySelector('#' + key + ' button');\n",
              "      quickchartButtonEl.disabled = true;  // To prevent multiple clicks.\n",
              "      quickchartButtonEl.classList.add('colab-df-spinner');\n",
              "      try {\n",
              "        const charts = await google.colab.kernel.invokeFunction(\n",
              "            'suggestCharts', [key], {});\n",
              "      } catch (error) {\n",
              "        console.error('Error during call to suggestCharts:', error);\n",
              "      }\n",
              "      quickchartButtonEl.classList.remove('colab-df-spinner');\n",
              "      quickchartButtonEl.classList.add('colab-df-quickchart-complete');\n",
              "    }\n",
              "    (() => {\n",
              "      let quickchartButtonEl =\n",
              "        document.querySelector('#df-e4fceda5-b23f-477f-a6ca-b04dc2d474cf button');\n",
              "      quickchartButtonEl.style.display =\n",
              "        google.colab.kernel.accessAllowed ? 'block' : 'none';\n",
              "    })();\n",
              "  </script>\n",
              "</div>\n",
              "    </div>\n",
              "  </div>\n"
            ],
            "application/vnd.google.colaboratory.intrinsic+json": {
              "type": "dataframe",
              "summary": "{\n  \"name\": \"df_data[df_data['full_name']\",\n  \"rows\": 13,\n  \"fields\": [\n    {\n      \"column\": \"year\",\n      \"properties\": {\n        \"dtype\": \"number\",\n        \"std\": 25,\n        \"min\": 1903,\n        \"max\": 1981,\n        \"num_unique_values\": 12,\n        \"samples\": [\n          1980,\n          1972,\n          1903\n        ],\n        \"semantic_type\": \"\",\n        \"description\": \"\"\n      }\n    },\n    {\n      \"column\": \"category\",\n      \"properties\": {\n        \"dtype\": \"category\",\n        \"num_unique_values\": 3,\n        \"samples\": [\n          \"Physics\",\n          \"Chemistry\",\n          \"Peace\"\n        ],\n        \"semantic_type\": \"\",\n        \"description\": \"\"\n      }\n    },\n    {\n      \"column\": \"laureate_type\",\n      \"properties\": {\n        \"dtype\": \"category\",\n        \"num_unique_values\": 2,\n        \"samples\": [\n          \"Organization\",\n          \"Individual\"\n        ],\n        \"semantic_type\": \"\",\n        \"description\": \"\"\n      }\n    },\n    {\n      \"column\": \"full_name\",\n      \"properties\": {\n        \"dtype\": \"category\",\n        \"num_unique_values\": 6,\n        \"samples\": [\n          \"Marie Curie, n\\u00e9e Sklodowska\",\n          \"Comit\\u00e9 international de la Croix Rouge (International Committee of the Red Cross)\"\n        ],\n        \"semantic_type\": \"\",\n        \"description\": \"\"\n      }\n    }\n  ]\n}"
            }
          },
          "metadata": {},
          "execution_count": 35
        }
      ]
    },
    {
      "cell_type": "markdown",
      "source": [
        "We see that Marie Curie actually got the Nobel prize twice - once in physics and once in chemistry. Linus Carl Pauling got it first in chemistry and later for peace given his work in promoting nuclear disarmament. Also, the International Red Cross was awarded the Peace prize a total of 3 times. The first two times were both during the devastating World Wars.\n",
        "\n"
      ],
      "metadata": {
        "id": "aAv7P0R3-I_i"
      }
    },
    {
      "cell_type": "markdown",
      "metadata": {
        "dc": {
          "key": "45"
        },
        "tags": [
          "sample_code"
        ],
        "id": "x5NtE05go7L1"
      },
      "source": [
        "# Number of Prizes per Category\n",
        "\n",
        "**Challenge**:\n",
        "* In how many categories are prizes awarded?\n",
        "* Create a plotly bar chart with the number of prizes awarded by category.\n",
        "* Use the color scale called `Aggrnyl` to colour the chart, but don't show a color axis.\n",
        "* Which category has the most number of prizes awarded?\n",
        "* Which category has the fewest number of prizes awarded?"
      ]
    },
    {
      "cell_type": "code",
      "metadata": {
        "id": "EjwqH7bxFm10"
      },
      "source": [],
      "execution_count": null,
      "outputs": []
    },
    {
      "cell_type": "code",
      "metadata": {
        "id": "BhweS8X1FmuL"
      },
      "source": [],
      "execution_count": null,
      "outputs": []
    },
    {
      "cell_type": "code",
      "metadata": {
        "id": "MDvvaUHiFoSS"
      },
      "source": [],
      "execution_count": null,
      "outputs": []
    },
    {
      "cell_type": "markdown",
      "metadata": {
        "id": "nlISAxfXo7L5"
      },
      "source": [
        "**Challenge**:\n",
        "* When was the first prize in the field of Economics awarded?\n",
        "* Who did the prize go to?"
      ]
    },
    {
      "cell_type": "code",
      "metadata": {
        "id": "ndzQ8lz6FpSG"
      },
      "source": [],
      "execution_count": null,
      "outputs": []
    },
    {
      "cell_type": "code",
      "metadata": {
        "id": "_7X079YUFpgn"
      },
      "source": [],
      "execution_count": null,
      "outputs": []
    },
    {
      "cell_type": "code",
      "metadata": {
        "id": "QFcoPbA8FpVK"
      },
      "source": [],
      "execution_count": null,
      "outputs": []
    },
    {
      "cell_type": "markdown",
      "metadata": {
        "dc": {
          "key": "31"
        },
        "run_control": {
          "frozen": true
        },
        "tags": [
          "context"
        ],
        "id": "COqMa0fIo7L7"
      },
      "source": [
        "# Male and Female Winners by Category\n",
        "\n",
        "**Challenge**: Create a [plotly bar chart](https://plotly.com/python/bar-charts/) that shows the split between men and women by category.\n",
        "* Hover over the bar chart. How many prizes went to women in Literature compared to Physics?\n",
        "\n",
        "<img src=https://i.imgur.com/od8TfOp.png width=650>"
      ]
    },
    {
      "cell_type": "code",
      "metadata": {
        "id": "5rm03TQmFrlk"
      },
      "source": [],
      "execution_count": null,
      "outputs": []
    },
    {
      "cell_type": "code",
      "metadata": {
        "id": "XTrMUbBmFroT"
      },
      "source": [],
      "execution_count": null,
      "outputs": []
    },
    {
      "cell_type": "code",
      "metadata": {
        "id": "epWwbAi4FreH"
      },
      "source": [],
      "execution_count": null,
      "outputs": []
    },
    {
      "cell_type": "markdown",
      "metadata": {
        "id": "CpHaV-ZDo7MD"
      },
      "source": [
        "# Number of Prizes Awarded Over Time\n",
        "\n",
        "**Challenge**: Are more prizes awarded recently than when the prize was first created? Show the trend in awards visually.\n",
        "* Count the number of prizes awarded every year.\n",
        "* Create a 5 year rolling average of the number of prizes (Hint: see previous lessons analysing Google Trends).\n",
        "* Using Matplotlib superimpose the rolling average on a scatter plot.\n",
        "* Show a tick mark on the x-axis for every 5 years from 1900 to 2020. (Hint: you'll need to use NumPy).\n",
        "\n",
        "<img src=https://i.imgur.com/4jqYuWC.png width=650>\n",
        "\n",
        "* Use the [named colours](https://matplotlib.org/3.1.0/gallery/color/named_colors.html) to draw the data points in `dogerblue` while the rolling average is coloured in `crimson`.\n",
        "\n",
        "<img src=https://i.imgur.com/u3RlcJn.png width=350>\n",
        "\n",
        "* Looking at the chart, did the first and second world wars have an impact on the number of prizes being given out?\n",
        "* What could be the reason for the trend in the chart?\n"
      ]
    },
    {
      "cell_type": "code",
      "metadata": {
        "id": "gD316Xp5Ftsj"
      },
      "source": [],
      "execution_count": null,
      "outputs": []
    },
    {
      "cell_type": "code",
      "metadata": {
        "id": "Jjm3G7VHFtx1"
      },
      "source": [],
      "execution_count": null,
      "outputs": []
    },
    {
      "cell_type": "code",
      "metadata": {
        "id": "NgVzgknLFtvP"
      },
      "source": [],
      "execution_count": null,
      "outputs": []
    },
    {
      "cell_type": "code",
      "metadata": {
        "id": "mWQImXL3FtkO"
      },
      "source": [],
      "execution_count": null,
      "outputs": []
    },
    {
      "cell_type": "markdown",
      "metadata": {
        "id": "gZWAAkdJo7MJ"
      },
      "source": [
        "# Are More Prizes Shared Than Before?\n",
        "\n",
        "**Challenge**: Investigate if more prizes are shared than before.\n",
        "\n",
        "* Calculate the average prize share of the winners on a year by year basis.\n",
        "* Calculate the 5 year rolling average of the percentage share.\n",
        "* Copy-paste the cell from the chart you created above.\n",
        "* Modify the code to add a secondary axis to your Matplotlib chart.\n",
        "* Plot the rolling average of the prize share on this chart.\n",
        "* See if you can invert the secondary y-axis to make the relationship even more clear."
      ]
    },
    {
      "cell_type": "code",
      "metadata": {
        "id": "If8-ZFoOFwph"
      },
      "source": [],
      "execution_count": null,
      "outputs": []
    },
    {
      "cell_type": "code",
      "metadata": {
        "id": "QRen05_6Fw0y"
      },
      "source": [],
      "execution_count": null,
      "outputs": []
    },
    {
      "cell_type": "code",
      "metadata": {
        "id": "4kLSGNPkFxPd"
      },
      "source": [],
      "execution_count": null,
      "outputs": []
    },
    {
      "cell_type": "code",
      "metadata": {
        "id": "nPBzjo_gFwsb"
      },
      "source": [],
      "execution_count": null,
      "outputs": []
    },
    {
      "cell_type": "code",
      "metadata": {
        "id": "207bX8O7Fwih"
      },
      "source": [],
      "execution_count": null,
      "outputs": []
    },
    {
      "cell_type": "markdown",
      "metadata": {
        "dc": {
          "key": "3"
        },
        "run_control": {
          "frozen": true
        },
        "tags": [
          "context"
        ],
        "id": "L32lWu0Oo7MM"
      },
      "source": [
        "# The Countries with the Most Nobel Prizes"
      ]
    },
    {
      "cell_type": "markdown",
      "metadata": {
        "id": "UipIHU54o7MN"
      },
      "source": [
        "**Challenge**:\n",
        "* Create a Pandas DataFrame called `top20_countries` that has the two columns. The `prize` column should contain the total number of prizes won.\n",
        "\n",
        "<img src=https://i.imgur.com/6HM8rfB.png width=350>\n",
        "\n",
        "* Is it best to use `birth_country`, `birth_country_current` or `organization_country`?\n",
        "* What are some potential problems when using `birth_country` or any of the others? Which column is the least problematic?\n",
        "* Then use plotly to create a horizontal bar chart showing the number of prizes won by each country. Here's what you're after:\n",
        "\n",
        "<img src=https://i.imgur.com/agcJdRS.png width=750>\n",
        "\n",
        "* What is the ranking for the top 20 countries in terms of the number of prizes?"
      ]
    },
    {
      "cell_type": "code",
      "metadata": {
        "id": "cscYI4BvFzjC"
      },
      "source": [],
      "execution_count": null,
      "outputs": []
    },
    {
      "cell_type": "code",
      "metadata": {
        "id": "Zl2rqcVKFz9P"
      },
      "source": [],
      "execution_count": null,
      "outputs": []
    },
    {
      "cell_type": "code",
      "metadata": {
        "id": "ivVVhHa1F20p"
      },
      "source": [],
      "execution_count": null,
      "outputs": []
    },
    {
      "cell_type": "code",
      "metadata": {
        "id": "eAFgX9_2Fz2W"
      },
      "source": [],
      "execution_count": null,
      "outputs": []
    },
    {
      "cell_type": "code",
      "metadata": {
        "id": "botUfiYDFzbL"
      },
      "source": [],
      "execution_count": null,
      "outputs": []
    },
    {
      "cell_type": "markdown",
      "metadata": {
        "id": "uNTvKsrzo7MR"
      },
      "source": [
        "# Use a Choropleth Map to Show the Number of Prizes Won by Country\n",
        "\n",
        "* Create this choropleth map using [the plotly documentation](https://plotly.com/python/choropleth-maps/):\n",
        "\n",
        "<img src=https://i.imgur.com/s4lqYZH.png>\n",
        "\n",
        "* Experiment with [plotly's available colours](https://plotly.com/python/builtin-colorscales/). I quite like the sequential colour `matter` on this map.\n",
        "\n",
        "Hint: You'll need to use a 3 letter country code for each country.\n"
      ]
    },
    {
      "cell_type": "code",
      "metadata": {
        "id": "2YT8MN4sF4Hs"
      },
      "source": [],
      "execution_count": null,
      "outputs": []
    },
    {
      "cell_type": "code",
      "metadata": {
        "id": "4O5jNBUYF4pD"
      },
      "source": [],
      "execution_count": null,
      "outputs": []
    },
    {
      "cell_type": "code",
      "metadata": {
        "id": "18QSc3EzF43z"
      },
      "source": [],
      "execution_count": null,
      "outputs": []
    },
    {
      "cell_type": "code",
      "metadata": {
        "id": "GIiWUNoGF4ga"
      },
      "source": [],
      "execution_count": null,
      "outputs": []
    },
    {
      "cell_type": "code",
      "metadata": {
        "id": "B7CgFAhiF3wv"
      },
      "source": [],
      "execution_count": null,
      "outputs": []
    },
    {
      "cell_type": "markdown",
      "metadata": {
        "id": "hNB-HUw0o7MU"
      },
      "source": [
        "# In Which Categories are the Different Countries Winning Prizes?\n",
        "\n",
        "**Challenge**: See if you can divide up the plotly bar chart you created above to show the which categories made up the total number of prizes. Here's what you're aiming for:\n",
        "\n",
        "<img src=https://i.imgur.com/iGaIKCL.png>\n",
        "\n",
        "* In which category are Germany and Japan the weakest compared to the United States?\n",
        "* In which category does Germany have more prizes than the UK?\n",
        "* In which categories does France have more prizes than Germany?\n",
        "* Which category makes up most of Australia's nobel prizes?\n",
        "* Which category makes up half of the prizes in the Netherlands?\n",
        "* Does the United States have more prizes in Economics than all of France? What about in Physics or Medicine?\n",
        "\n",
        "\n",
        "The hard part is preparing the data for this chart!\n",
        "\n",
        "\n",
        "*Hint*: Take a two-step approach. The first step is grouping the data by country and category. Then you can create a DataFrame that looks something like this:\n",
        "\n",
        "<img src=https://i.imgur.com/VKjzKa1.png width=450>\n"
      ]
    },
    {
      "cell_type": "code",
      "metadata": {
        "id": "_BuNdpmEF7wR"
      },
      "source": [],
      "execution_count": null,
      "outputs": []
    },
    {
      "cell_type": "code",
      "metadata": {
        "id": "l5eYtGIXF8Mn"
      },
      "source": [],
      "execution_count": null,
      "outputs": []
    },
    {
      "cell_type": "code",
      "metadata": {
        "id": "AJO038bkF8YK"
      },
      "source": [],
      "execution_count": null,
      "outputs": []
    },
    {
      "cell_type": "code",
      "metadata": {
        "id": "8H2OTr_OF8Jh"
      },
      "source": [],
      "execution_count": null,
      "outputs": []
    },
    {
      "cell_type": "code",
      "metadata": {
        "id": "ZTbCsyRKF7yx"
      },
      "source": [],
      "execution_count": null,
      "outputs": []
    },
    {
      "cell_type": "code",
      "metadata": {
        "id": "DhE2gyZhF7oQ"
      },
      "source": [],
      "execution_count": null,
      "outputs": []
    },
    {
      "cell_type": "markdown",
      "metadata": {
        "dc": {
          "key": "10"
        },
        "run_control": {
          "frozen": true
        },
        "tags": [
          "context"
        ],
        "id": "Ic-LN14bo7Mb"
      },
      "source": [
        "### Number of Prizes Won by Each Country Over Time\n",
        "\n",
        "* When did the United States eclipse every other country in terms of the number of prizes won?\n",
        "* Which country or countries were leading previously?\n",
        "* Calculate the cumulative number of prizes won by each country in every year. Again, use the `birth_country_current` of the winner to calculate this.\n",
        "* Create a [plotly line chart](https://plotly.com/python/line-charts/) where each country is a coloured line."
      ]
    },
    {
      "cell_type": "code",
      "metadata": {
        "id": "VA7NVxrwF-1d"
      },
      "source": [],
      "execution_count": null,
      "outputs": []
    },
    {
      "cell_type": "code",
      "metadata": {
        "id": "_IWG-gi0F_O4"
      },
      "source": [],
      "execution_count": null,
      "outputs": []
    },
    {
      "cell_type": "code",
      "metadata": {
        "id": "4wj1M8NpF_dq"
      },
      "source": [],
      "execution_count": null,
      "outputs": []
    },
    {
      "cell_type": "code",
      "metadata": {
        "id": "ncYD0dKCF_IK"
      },
      "source": [],
      "execution_count": null,
      "outputs": []
    },
    {
      "cell_type": "code",
      "metadata": {
        "id": "7tnA9YoOF_1L"
      },
      "source": [],
      "execution_count": null,
      "outputs": []
    },
    {
      "cell_type": "code",
      "metadata": {
        "id": "F6B7oCPTF-sV"
      },
      "source": [],
      "execution_count": null,
      "outputs": []
    },
    {
      "cell_type": "markdown",
      "metadata": {
        "id": "J7WUUZpUo7Mj"
      },
      "source": [
        "# What are the Top Research Organisations?\n",
        "\n",
        "**Challenge**: Create a bar chart showing the organisations affiliated with the Nobel laureates. It should looks something like this:\n",
        "\n",
        "<img src=https://i.imgur.com/zZihj2p.png width=600>\n",
        "\n",
        "* Which organisations make up the top 20?\n",
        "* How many Nobel prize winners are affiliated with the University of Chicago and Harvard University?"
      ]
    },
    {
      "cell_type": "code",
      "metadata": {
        "id": "2jdCXcqcGCxL"
      },
      "source": [],
      "execution_count": null,
      "outputs": []
    },
    {
      "cell_type": "code",
      "metadata": {
        "id": "Db3Zll65GDQd"
      },
      "source": [],
      "execution_count": null,
      "outputs": []
    },
    {
      "cell_type": "code",
      "metadata": {
        "id": "rRDeI_jjGDII"
      },
      "source": [],
      "execution_count": null,
      "outputs": []
    },
    {
      "cell_type": "code",
      "metadata": {
        "id": "zH4Bko6UGEc3"
      },
      "source": [],
      "execution_count": null,
      "outputs": []
    },
    {
      "cell_type": "code",
      "metadata": {
        "id": "C_wDWepRGCpL"
      },
      "source": [],
      "execution_count": null,
      "outputs": []
    },
    {
      "cell_type": "markdown",
      "metadata": {
        "id": "d9AXIRyNo7Mp"
      },
      "source": [
        "# Which Cities Make the Most Discoveries?\n",
        "\n",
        "Where do major discoveries take place?  \n",
        "\n",
        "**Challenge**:\n",
        "* Create another plotly bar chart graphing the top 20 organisation cities of the research institutions associated with a Nobel laureate.\n",
        "* Where is the number one hotspot for discoveries in the world?\n",
        "* Which city in Europe has had the most discoveries?"
      ]
    },
    {
      "cell_type": "code",
      "metadata": {
        "id": "sHYI5FLAGFRh"
      },
      "source": [],
      "execution_count": null,
      "outputs": []
    },
    {
      "cell_type": "code",
      "metadata": {
        "id": "rsI7xC0sGFOb"
      },
      "source": [],
      "execution_count": null,
      "outputs": []
    },
    {
      "cell_type": "markdown",
      "metadata": {
        "id": "R6UQrcixo7Mm"
      },
      "source": [
        "# Where are Nobel Laureates Born? Chart the Laureate Birth Cities\n",
        "\n",
        "**Challenge**:\n",
        "* Create a plotly bar chart graphing the top 20 birth cities of Nobel laureates.\n",
        "* Use a named colour scale called `Plasma` for the chart.\n",
        "* What percentage of the United States prizes came from Nobel laureates born in New York?\n",
        "* How many Nobel laureates were born in London, Paris and Vienna?\n",
        "* Out of the top 5 cities, how many are in the United States?\n"
      ]
    },
    {
      "cell_type": "code",
      "metadata": {
        "id": "JukPm21GGG9i"
      },
      "source": [],
      "execution_count": null,
      "outputs": []
    },
    {
      "cell_type": "code",
      "metadata": {
        "id": "t14pn2kxGG2C"
      },
      "source": [],
      "execution_count": null,
      "outputs": []
    },
    {
      "cell_type": "markdown",
      "metadata": {
        "id": "YN6KxT5oo7Mq"
      },
      "source": [
        "# Plotly Sunburst Chart: Combine Country, City, and Organisation\n",
        "\n",
        "**Challenge**:\n",
        "\n",
        "* Create a DataFrame that groups the number of prizes by organisation.\n",
        "* Then use the [plotly documentation to create a sunburst chart](https://plotly.com/python/sunburst-charts/)\n",
        "* Click around in your chart, what do you notice about Germany and France?\n",
        "\n",
        "\n",
        "Here's what you're aiming for:\n",
        "\n",
        "<img src=https://i.imgur.com/cemX4m5.png width=300>\n",
        "\n"
      ]
    },
    {
      "cell_type": "code",
      "metadata": {
        "id": "jGOx7MxCGI20"
      },
      "source": [],
      "execution_count": null,
      "outputs": []
    },
    {
      "cell_type": "code",
      "metadata": {
        "id": "l1DPxFgRGJBg"
      },
      "source": [],
      "execution_count": null,
      "outputs": []
    },
    {
      "cell_type": "code",
      "metadata": {
        "id": "BJQoljdqGIu3"
      },
      "source": [],
      "execution_count": null,
      "outputs": []
    },
    {
      "cell_type": "markdown",
      "metadata": {
        "id": "PW4jvWFWo7Mv"
      },
      "source": [
        "# Patterns in the Laureate Age at the Time of the Award\n",
        "\n",
        "How Old Are the Laureates When the Win the Prize?\n",
        "\n",
        "**Challenge**: Calculate the age of the laureate in the year of the ceremony and add this as a column called `winning_age` to the `df_data` DataFrame. Hint: you can use [this](https://pandas.pydata.org/pandas-docs/stable/reference/api/pandas.Series.dt.html) to help you.\n",
        "\n"
      ]
    },
    {
      "cell_type": "code",
      "metadata": {
        "id": "2f4JpfUCGLd2"
      },
      "source": [],
      "execution_count": null,
      "outputs": []
    },
    {
      "cell_type": "code",
      "metadata": {
        "id": "jHkFqlGnGLnf"
      },
      "source": [],
      "execution_count": null,
      "outputs": []
    },
    {
      "cell_type": "code",
      "metadata": {
        "id": "-Ooq0xoPGLV_"
      },
      "source": [],
      "execution_count": null,
      "outputs": []
    },
    {
      "cell_type": "markdown",
      "metadata": {
        "dc": {
          "key": "66"
        },
        "run_control": {
          "frozen": true
        },
        "tags": [
          "context"
        ],
        "id": "09344hnCo7My"
      },
      "source": [
        "### Who were the oldest and youngest winners?\n",
        "\n",
        "**Challenge**:\n",
        "* What are the names of the youngest and oldest Nobel laureate?\n",
        "* What did they win the prize for?\n",
        "* What is the average age of a winner?\n",
        "* 75% of laureates are younger than what age when they receive the prize?\n",
        "* Use Seaborn to [create histogram](https://seaborn.pydata.org/generated/seaborn.histplot.html) to visualise the distribution of laureate age at the time of winning. Experiment with the number of `bins` to see how the visualisation changes."
      ]
    },
    {
      "cell_type": "code",
      "metadata": {
        "id": "IzGfeUyNGNcR"
      },
      "source": [],
      "execution_count": null,
      "outputs": []
    },
    {
      "cell_type": "code",
      "metadata": {
        "id": "inN6ggCUGNUy"
      },
      "source": [],
      "execution_count": null,
      "outputs": []
    },
    {
      "cell_type": "markdown",
      "metadata": {
        "id": "UQxMUPddo6fo"
      },
      "source": [
        "### Descriptive Statistics for the Laureate Age at Time of Award\n",
        "\n",
        "* Calculate the descriptive statistics for the age at the time of the award.\n",
        "* Then visualise the distribution in the form of a histogram using [Seaborn's .histplot() function](https://seaborn.pydata.org/generated/seaborn.histplot.html).\n",
        "* Experiment with the `bin` size. Try 10, 20, 30, and 50.  "
      ]
    },
    {
      "cell_type": "code",
      "metadata": {
        "id": "6vlp5S0WGO98"
      },
      "source": [],
      "execution_count": null,
      "outputs": []
    },
    {
      "cell_type": "code",
      "metadata": {
        "id": "P6cAIrB5GO24"
      },
      "source": [],
      "execution_count": null,
      "outputs": []
    },
    {
      "cell_type": "markdown",
      "metadata": {
        "id": "gljdi8sxpkg7"
      },
      "source": [
        "### Age at Time of Award throughout History\n",
        "\n",
        "Are Nobel laureates being nominated later in life than before? Have the ages of laureates at the time of the award increased or decreased over time?\n",
        "\n",
        "**Challenge**\n",
        "\n",
        "* Use Seaborn to [create a .regplot](https://seaborn.pydata.org/generated/seaborn.regplot.html?highlight=regplot#seaborn.regplot) with a trendline.\n",
        "* Set the `lowess` parameter to `True` to show a moving average of the linear fit.\n",
        "* According to the best fit line, how old were Nobel laureates in the years 1900-1940 when they were awarded the prize?\n",
        "* According to the best fit line, what age would it predict for a Nobel laureate in 2020?\n"
      ]
    },
    {
      "cell_type": "code",
      "metadata": {
        "id": "AjUdtyB9GQ9w"
      },
      "source": [],
      "execution_count": null,
      "outputs": []
    },
    {
      "cell_type": "code",
      "metadata": {
        "id": "B_NsO6aaGQzu"
      },
      "source": [],
      "execution_count": null,
      "outputs": []
    },
    {
      "cell_type": "markdown",
      "metadata": {
        "dc": {
          "key": "59"
        },
        "run_control": {
          "frozen": true
        },
        "tags": [
          "context"
        ],
        "id": "CPFMftF9o7M5"
      },
      "source": [
        "### Winning Age Across the Nobel Prize Categories\n",
        "\n",
        "How does the age of laureates vary by category?\n",
        "\n",
        "* Use Seaborn's [`.boxplot()`](https://seaborn.pydata.org/generated/seaborn.boxplot.html?highlight=boxplot#seaborn.boxplot) to show how the mean, quartiles, max, and minimum values vary across categories. Which category has the longest \"whiskers\"?\n",
        "* In which prize category are the average winners the oldest?\n",
        "* In which prize category are the average winners the youngest?"
      ]
    },
    {
      "cell_type": "code",
      "metadata": {
        "id": "mbpG0Kj5GSxg"
      },
      "source": [],
      "execution_count": null,
      "outputs": []
    },
    {
      "cell_type": "code",
      "metadata": {
        "id": "WiGT3CmuGSqp"
      },
      "source": [],
      "execution_count": null,
      "outputs": []
    },
    {
      "cell_type": "markdown",
      "metadata": {
        "id": "M9qE0P4-8i5L"
      },
      "source": [
        "**Challenge**\n",
        "* Now use Seaborn's [`.lmplot()`](https://seaborn.pydata.org/generated/seaborn.lmplot.html?highlight=lmplot#seaborn.lmplot) and the `row` parameter to create 6 separate charts for each prize category. Again set `lowess` to `True`.\n",
        "* What are the winning age trends in each category?\n",
        "* Which category has the age trending up and which category has the age trending down?\n",
        "* Is this `.lmplot()` telling a different story from the `.boxplot()`?\n",
        "* Create another chart with Seaborn. This time use `.lmplot()` to put all 6 categories on the same chart using the `hue` parameter.\n"
      ]
    },
    {
      "cell_type": "code",
      "metadata": {
        "id": "HcdLGWC7GUb7"
      },
      "source": [],
      "execution_count": null,
      "outputs": []
    },
    {
      "cell_type": "code",
      "metadata": {
        "id": "8HwP_swVGUiq"
      },
      "source": [],
      "execution_count": null,
      "outputs": []
    },
    {
      "cell_type": "code",
      "metadata": {
        "id": "Ml9w1jFjGUTi"
      },
      "source": [],
      "execution_count": null,
      "outputs": []
    },
    {
      "cell_type": "code",
      "metadata": {
        "id": "PJD0-Opko7M_"
      },
      "source": [],
      "execution_count": null,
      "outputs": []
    },
    {
      "cell_type": "code",
      "metadata": {
        "id": "9F9f_2HZo7NA"
      },
      "source": [],
      "execution_count": null,
      "outputs": []
    }
  ]
}